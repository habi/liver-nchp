{
 "cells": [
  {
   "cell_type": "markdown",
   "metadata": {},
   "source": [
    "# Handle and check the 'data' of the all the scans we did\n",
    "Wrestle with the data, check parameters and generate some helping files"
   ]
  },
  {
   "cell_type": "code",
   "execution_count": 1,
   "metadata": {},
   "outputs": [],
   "source": [
    "import platform\n",
    "import os\n",
    "import glob\n",
    "import pandas\n",
    "from tqdm import notebook"
   ]
  },
  {
   "cell_type": "code",
   "execution_count": 2,
   "metadata": {},
   "outputs": [],
   "source": [
    "# # Set dask temporary folder\n",
    "# # Do this before creating a client: https://stackoverflow.com/a/62804525/323100\n",
    "# import tempfile\n",
    "# if 'Linux' in platform.system():\n",
    "#     tmp = os.path.join(os.sep, 'media', 'habi', 'Fast_SSD')\n",
    "# elif 'Darwin' in platform.system():\n",
    "#     tmp = tempfile.gettempdir()\n",
    "# else:\n",
    "#     if 'anaklin' in platform.node():\n",
    "#         tmp = os.path.join('F:\\\\')\n",
    "#     else:\n",
    "#         tmp = os.path.join('D:\\\\')\n",
    "# dask.config.set({'temporary_directory': os.path.join(tmp, 'tmp')})\n",
    "# print('Dask temporarry files go to %s' % dask.config.get('temporary_directory'))"
   ]
  },
  {
   "cell_type": "code",
   "execution_count": 3,
   "metadata": {},
   "outputs": [],
   "source": [
    "# # Start cluster and client now, after setting tempdir\n",
    "# cluster = LocalCluster(n_workers=8)\n",
    "# client = Client(cluster)"
   ]
  },
  {
   "cell_type": "code",
   "execution_count": 4,
   "metadata": {},
   "outputs": [],
   "source": [
    "# print('You can seee what DASK is doing at \"http://localhost:%s/status\"' % client.scheduler_info()['services']['dashboard'])"
   ]
  },
  {
   "cell_type": "code",
   "execution_count": 5,
   "metadata": {},
   "outputs": [],
   "source": [
    "# # Ignore warnings in the notebook\n",
    "# import warnings\n",
    "# warnings.filterwarnings(\"ignore\")"
   ]
  },
  {
   "cell_type": "code",
   "execution_count": 6,
   "metadata": {},
   "outputs": [],
   "source": [
    "# # Set up figure defaults\n",
    "# plt.rc('image', cmap='gray', interpolation='nearest')  # Display all images in b&w and with 'nearest' interpolation\n",
    "# plt.rcParams['figure.figsize'] = (16, 9)  # Size up figures a bit\n",
    "# plt.rcParams['figure.dpi'] = 200"
   ]
  },
  {
   "cell_type": "code",
   "execution_count": 7,
   "metadata": {},
   "outputs": [],
   "source": [
    "# # Setup scale bar defaults\n",
    "# plt.rcParams['scalebar.location'] = 'lower right'\n",
    "# plt.rcParams['scalebar.frameon'] = False\n",
    "# plt.rcParams['scalebar.color'] = 'white'"
   ]
  },
  {
   "cell_type": "code",
   "execution_count": 8,
   "metadata": {},
   "outputs": [],
   "source": [
    "# # Display all plots identically\n",
    "# lines = 3\n",
    "# # And then do something like\n",
    "# # plt.subplot(lines, numpy.ceil(len(Data) / float(lines)), c + 1)"
   ]
  },
  {
   "cell_type": "code",
   "execution_count": 9,
   "metadata": {},
   "outputs": [
    {
     "name": "stdout",
     "output_type": "stream",
     "text": [
      "We are loading all the data from /home/habi/P/Documents/Semela-Liver/Data/Liver-Semela\n"
     ]
    }
   ],
   "source": [
    "# Different locations if running either on Linux or Windows\n",
    "Archive = False # Load the data directly from the iee-research_storage drive\n",
    "# to speed things up significantly\n",
    "if Archive:\n",
    "    if 'Linux' in platform.system():\n",
    "        BasePath = os.path.join(os.sep, 'home', 'habi', 'research-storage-uct', 'Archiv_Tape')\n",
    "    elif 'Windows' in platform.system():\n",
    "        BasePath = os.path.join('R:\\\\Archiv_Tape')\n",
    "else:\n",
    "    BasePath = os.path.join(os.getcwd(), 'Data')\n",
    "Root = os.path.join(BasePath, 'Liver-Semela')\n",
    "print('We are loading all the data from %s' % Root)"
   ]
  },
  {
   "cell_type": "code",
   "execution_count": 10,
   "metadata": {},
   "outputs": [],
   "source": [
    "def get_pixelsize(logfile):\n",
    "    \"\"\"Get the pixel size from the scan log file\"\"\"\n",
    "    pixelsize=None    \n",
    "    with open(logfile, 'r') as f:\n",
    "        for line in f:\n",
    "            if 'Image Pixel' in line and 'Scaled' not in line:\n",
    "                pixelsize = float(line.split('=')[1])\n",
    "    return(pixelsize)"
   ]
  },
  {
   "cell_type": "code",
   "execution_count": 11,
   "metadata": {},
   "outputs": [],
   "source": [
    "def get_operator(logfile):\n",
    "    \"\"\"Get the operator who scanned the samples\"\"\"\n",
    "    operator = None\n",
    "    with open(logfile, 'r') as f:\n",
    "        for line in f:\n",
    "            if 'User Name' in line:\n",
    "                operator = line.split('=')[1].strip()\n",
    "    return(operator)"
   ]
  },
  {
   "cell_type": "code",
   "execution_count": 12,
   "metadata": {},
   "outputs": [],
   "source": [
    "def get_experiment(i):\n",
    "    '''Categorize  into 'Notch' or 'Control' '''\n",
    "    if 'notch' in i:\n",
    "        return 'Notch'\n",
    "    if 'ctrl' in i:\n",
    "        return 'Control'"
   ]
  },
  {
   "cell_type": "code",
   "execution_count": 13,
   "metadata": {},
   "outputs": [],
   "source": [
    "def get_vein(i):\n",
    "    if 'portal' in i:\n",
    "        return 'Portal'\n",
    "    elif 'cava' in i:\n",
    "        return 'Cava'\n",
    "    else:\n",
    "        return None"
   ]
  },
  {
   "cell_type": "code",
   "execution_count": 14,
   "metadata": {},
   "outputs": [],
   "source": [
    "def get_git_hash():\n",
    "    '''\n",
    "    Get the current git hash from the repository.\n",
    "    Based on http://stackoverflow.com/a/949391/323100 and\n",
    "    http://stackoverflow.com/a/18283905/323100\n",
    "    '''\n",
    "    from subprocess import Popen, PIPE\n",
    "    import os\n",
    "    gitprocess = Popen(['git',\n",
    "                        '--git-dir',\n",
    "                        os.path.join(os.getcwd(), '.git'),\n",
    "                        'rev-parse',\n",
    "                        '--short',\n",
    "                        '--verify',\n",
    "                        'HEAD'],\n",
    "                       stdout=PIPE)\n",
    "    (output, _) = gitprocess.communicate()\n",
    "    return output.strip().decode(\"utf-8\")"
   ]
  },
  {
   "cell_type": "code",
   "execution_count": 15,
   "metadata": {},
   "outputs": [],
   "source": [
    "# # Make directory for output\n",
    "# OutPutDir = os.path.join(os.getcwd(), 'Output', get_git_hash())\n",
    "# print('We are saving all the output to %s' % OutPutDir)\n",
    "# os.makedirs(OutPutDir, exist_ok=True)"
   ]
  },
  {
   "cell_type": "markdown",
   "metadata": {},
   "source": [
    "Mario Novkovic told us that \n",
    "> We have used the ds17 livers in the paper, specifically ctrl4 and notch1_2 in the first batch (training dataset), while the second batch consisted of 3 datasets from each mouse type: ctrl1, ctrl2, ctrl5 and notch1_1, notch1_3, notch1_4.\n",
    "\n",
    "So let's only use *those* folders for the remainder of the notebook.\n",
    "We copied all the relevant data from the archive to the `Data`-subfolder here with\n",
    "````bash\n",
    "rsync --verbose --recursive --times --update --omit-dir-times --include=\"*/\" --include=\"*.?og\" --include=\"*.c?v\" --include=\"*.?oi\" --include=\"*.?at\" --include=\"*_spr*.bmp\" --include=\"*.txt\" --include=\"*.md\" --include=\"*.mp\" --include=\"*.sb\" --include=\"*.info\" --include=\"*.?nc\" --include=\"*.bkp\" --exclude=\"*\" ~/research-storage-uct/Archiv_Tape/Liver-Semela/ /home/habi/P/Documents/Semela-Liver/Data/\n",
    "\n",
    "````\n",
    "(which is our standard `rsync` blurb for putting stuff *to* the archive, but without the `*.tif` files, so we get back all the relevant things :).\n",
    "\n",
    "We then delete all non-`ds17*`-folders with\n",
    "````bash\n",
    "cd /home/habi/P/Documents/Semela-Liver/Data/Liver-Semela\n",
    "find . ! -path './ds*' -type d -exec rm -r {} +\n",
    "````\n",
    "which is based on https://unix.stackexchange.com/a/153863/199252 and works even though it traverses a lot of empty directories."
   ]
  },
  {
   "cell_type": "markdown",
   "metadata": {},
   "source": [
    "Now that we have *all* the necessary data (and some more), let's get to work!"
   ]
  },
  {
   "cell_type": "code",
   "execution_count": 16,
   "metadata": {},
   "outputs": [],
   "source": [
    "# Make us a dataframe for saving all that we need\n",
    "Data = pandas.DataFrame()"
   ]
  },
  {
   "cell_type": "code",
   "execution_count": 17,
   "metadata": {},
   "outputs": [],
   "source": [
    "# Get *all* log files\n",
    "Data['LogFile'] = [f for f in sorted(glob.glob(os.path.join(Root, '**', '*.log'), recursive=True))]"
   ]
  },
  {
   "cell_type": "code",
   "execution_count": 18,
   "metadata": {},
   "outputs": [],
   "source": [
    "# Get all folders and generate sample, scan and experiment name\n",
    "Data['Folder'] = [os.path.dirname(f) for f in Data['LogFile']]\n",
    "Data['SampleName'] = [f[len(Root):].split(os.path.sep)[1].replace('ds17_','') for f in Data['Folder']]\n",
    "Data['Sample'] = [sn.replace('_rescan','').replace('_portal','').replace('_cava','') for sn in Data['SampleName']]\n",
    "Data['Scan'] = [f[len(Root):].split(os.path.sep)[2] for f in Data['Folder']]\n",
    "Data['Subfolder'] = [f[len(Root):].split(os.path.sep)[3] for f in Data['Folder']]\n",
    "Data['Experiment'] = [get_experiment(s) for s in Data['Sample']]\n",
    "Data['Vein'] = [get_vein(s) for s in Data['SampleName']]"
   ]
  },
  {
   "cell_type": "code",
   "execution_count": 19,
   "metadata": {},
   "outputs": [
    {
     "name": "stdout",
     "output_type": "stream",
     "text": [
      "LogFile       /home/habi/P/Documents/Semela-Liver/Data/Liver...\n",
      "Folder        /home/habi/P/Documents/Semela-Liver/Data/Liver...\n",
      "SampleName                                         ctrl3_portal\n",
      "Sample                                                    ctrl3\n",
      "Scan                                                   overview\n",
      "Subfolder                                                  proj\n",
      "Experiment                                              Control\n",
      "Vein                                                     Portal\n",
      "Name: 33, dtype: object\n",
      "--------------------------------------------------------------------------------\n",
      "/home/habi/P/Documents/Semela-Liver/Data/Liver-Semela/ds17_ctrl3_portal/overview/proj/ds17_ctrl3_portal~00.log\n",
      "/home/habi/P/Documents/Semela-Liver/Data/Liver-Semela/ds17_ctrl3_portal/overview/proj\n",
      "ctrl3_portal\n",
      "ctrl3\n",
      "overview\n",
      "proj\n",
      "Control\n",
      "Portal\n"
     ]
    }
   ],
   "source": [
    "# Check what we did there...\n",
    "print(Data.iloc[33])\n",
    "print(80*'-')\n",
    "for i in Data.iloc[33]:\n",
    "    print(i)"
   ]
  },
  {
   "cell_type": "code",
   "execution_count": 20,
   "metadata": {},
   "outputs": [],
   "source": [
    "# Read the voxelsize from each logfile\n",
    "Data['Voxelsize'] = [get_pixelsize(log) for log in Data['LogFile']]"
   ]
  },
  {
   "cell_type": "code",
   "execution_count": 21,
   "metadata": {},
   "outputs": [],
   "source": [
    "# One log file is empty, so we drop it\n",
    "# If we e cannot read a voxel size out of it, it's safe to drop\n",
    "Data.drop(Data[Data['Voxelsize'].isna()].index, inplace=True)\n",
    "# We asked Mario et al. if they have a good copy of it, but didn't get it until today"
   ]
  },
  {
   "cell_type": "code",
   "execution_count": 22,
   "metadata": {},
   "outputs": [
    {
     "name": "stdout",
     "output_type": "stream",
     "text": [
      "The scans were performed by the users ['haberthu']\n"
     ]
    }
   ],
   "source": [
    "Data['Operator'] = [get_operator(log) for log in Data['LogFile']]\n",
    "print('The scans were performed by the users %s' % Data.Operator.unique())"
   ]
  },
  {
   "cell_type": "code",
   "execution_count": 23,
   "metadata": {},
   "outputs": [
    {
     "name": "stdout",
     "output_type": "stream",
     "text": [
      "ctrl1\n",
      "ctrl2\n",
      "ctrl3\n",
      "ctrl4\n",
      "ctrl5\n",
      "ctrl6\n",
      "notch1_1\n",
      "notch1_2\n",
      "notch1_3\n",
      "notch1_4\n"
     ]
    }
   ],
   "source": [
    "# What sample names do we have in all the log files?\n",
    "for i in Data.Sample.unique():\n",
    "    print(i)"
   ]
  },
  {
   "cell_type": "code",
   "execution_count": 24,
   "metadata": {},
   "outputs": [],
   "source": [
    "# These are the folders that were used according to Marios email from 21/03/2022, 16:43\n",
    "whichones = ['ctrl4', 'notch1_2', 'ctrl1', 'ctrl2', 'ctrl5', 'notch1_1', 'notch1_3', 'notch1_4']"
   ]
  },
  {
   "cell_type": "code",
   "execution_count": 25,
   "metadata": {},
   "outputs": [
    {
     "data": {
      "text/plain": [
       "['ctrl1',\n",
       " 'ctrl2',\n",
       " 'ctrl4',\n",
       " 'ctrl5',\n",
       " 'notch1_1',\n",
       " 'notch1_2',\n",
       " 'notch1_3',\n",
       " 'notch1_4']"
      ]
     },
     "execution_count": 25,
     "metadata": {},
     "output_type": "execute_result"
    }
   ],
   "source": [
    "# What Mario et al looked at\n",
    "sorted(whichones)"
   ]
  },
  {
   "cell_type": "code",
   "execution_count": 26,
   "metadata": {},
   "outputs": [
    {
     "data": {
      "text/plain": [
       "{'ctrl3', 'ctrl6'}"
      ]
     },
     "execution_count": 26,
     "metadata": {},
     "output_type": "execute_result"
    }
   ],
   "source": [
    "# Which ones are 'surplus'?\n",
    "set(Data.Sample.unique())-set(whichones)"
   ]
  },
  {
   "cell_type": "code",
   "execution_count": 27,
   "metadata": {},
   "outputs": [],
   "source": [
    "# Mario wrote us in an email on 06/04/2022, 18:54 that they \"mostly used the high resolution rescan\" with \"a final voxel resolution of 5 x 5 x 5 um\".\n",
    "# Specifically scans\n",
    "\n",
    "# Batch 1\n",
    "# ds17_ctrl4_cava\n",
    "# ds17_notch1_2\n",
    "\n",
    "# Batch 2\n",
    "# ds17_ctrl1_portal_rescan\n",
    "# ds17_ctrl2_portal_rescan\n",
    "# ds17_ctrl5_cava_rescan\n",
    "# ds17_notch1_1_rescan\n",
    "# ds17_notch1_3_rescan\n",
    "# ds17_notch1_4_rescan "
   ]
  },
  {
   "cell_type": "code",
   "execution_count": 28,
   "metadata": {},
   "outputs": [],
   "source": [
    "# Get rid of all non-5um scans\n",
    "# Since we have severaly 5um voxel sizes we round them before dropping\n",
    "Data.drop(Data[Data['Voxelsize'].round() != 5.0].index, inplace=True)"
   ]
  },
  {
   "cell_type": "code",
   "execution_count": 29,
   "metadata": {},
   "outputs": [],
   "source": [
    "# Drop all 'rec' folders, which we don't need for what we do here\n",
    "Data.drop(Data[Data['Subfolder'] == 'rec'].index, inplace=True)"
   ]
  },
  {
   "cell_type": "code",
   "execution_count": 30,
   "metadata": {},
   "outputs": [],
   "source": [
    "# Drop all non-'highresolution' folders, since these are surplus\n",
    "Data.drop(Data[Data['Scan'] != 'highresolution'].index, inplace=True)"
   ]
  },
  {
   "cell_type": "code",
   "execution_count": 31,
   "metadata": {},
   "outputs": [],
   "source": [
    "# Drop all logfiles from subscans, e.g. the ones that end with ~00.log, ~01.log, ~02.log, etc.\n",
    "Data.drop(Data[Data['LogFile'].str.contains('~0')].index, inplace=True)"
   ]
  },
  {
   "cell_type": "code",
   "execution_count": 32,
   "metadata": {},
   "outputs": [
    {
     "name": "stdout",
     "output_type": "stream",
     "text": [
      "/ds17_ctrl1_portal/highresolution/proj/ds17_ctrl1_portal.log\n",
      "/ds17_ctrl1_portal_rescan/highresolution/proj/ds17_ctrl1_portal_rescan.log\n",
      "/ds17_ctrl2_portal_rescan/highresolution/proj/ds17_ctrl2_portal_rescan.log\n",
      "/ds17_ctrl4_cava/highresolution/proj/ds17_ctrl4_cava.log\n",
      "/ds17_ctrl5_cava_rescan/highresolution/proj/ds17_ctrl5_cava_rescan.log\n",
      "/ds17_notch1_1/highresolution/proj/ds17_notch1_1.log\n",
      "/ds17_notch1_1_rescan/highresolution/proj/ds17_notch1_1_rescan.log\n",
      "/ds17_notch1_3_rescan/highresolution/proj/ds17_notch1_3_rescan.log\n",
      "/ds17_notch1_4/highresolution/proj/ds17_notch1_4.log\n",
      "/ds17_notch1_4_rescan/highresolution/proj/ds17_notch1_4_rescan.log\n"
     ]
    }
   ],
   "source": [
    "for i in Data.LogFile:\n",
    "    print(i[len(Root):])"
   ]
  },
  {
   "cell_type": "code",
   "execution_count": 33,
   "metadata": {},
   "outputs": [
    {
     "name": "stdout",
     "output_type": "stream",
     "text": [
      "--------------- For sample ctrl1 we have the data below ---------------\n",
      "   Sample    Vein           SampleName            Scan  Voxelsize\n",
      "0   ctrl1  Portal         ctrl1_portal  highresolution   5.000040\n",
      "16  ctrl1  Portal  ctrl1_portal_rescan  highresolution   5.000018\n",
      "--------------------------------------------------------------------------------\n",
      "--------------- For sample ctrl2 we have the data below ---------------\n",
      "   Sample    Vein           SampleName            Scan  Voxelsize\n",
      "28  ctrl2  Portal  ctrl2_portal_rescan  highresolution   5.000018\n",
      "--------------------------------------------------------------------------------\n",
      "--------------- For sample ctrl4 we have the data below ---------------\n",
      "   Sample  Vein  SampleName            Scan  Voxelsize\n",
      "36  ctrl4  Cava  ctrl4_cava  highresolution    5.00004\n",
      "--------------------------------------------------------------------------------\n",
      "--------------- For sample ctrl5 we have the data below ---------------\n",
      "   Sample  Vein         SampleName            Scan  Voxelsize\n",
      "61  ctrl5  Cava  ctrl5_cava_rescan  highresolution   5.000018\n",
      "--------------------------------------------------------------------------------\n",
      "--------------- For sample notch1_1 we have the data below ---------------\n",
      "      Sample  Vein       SampleName            Scan  Voxelsize\n",
      "69  notch1_1  None         notch1_1  highresolution   5.000040\n",
      "87  notch1_1  None  notch1_1_rescan  highresolution   5.000018\n",
      "--------------------------------------------------------------------------------\n",
      "--------------- For sample notch1_2 we have the data below ---------------\n",
      "Empty DataFrame\n",
      "Columns: [Sample, Vein, SampleName, Scan, Voxelsize]\n",
      "Index: []\n",
      "--------------------------------------------------------------------------------\n",
      "--------------- For sample notch1_3 we have the data below ---------------\n",
      "       Sample  Vein       SampleName            Scan  Voxelsize\n",
      "103  notch1_3  None  notch1_3_rescan  highresolution   5.000018\n",
      "--------------------------------------------------------------------------------\n",
      "--------------- For sample notch1_4 we have the data below ---------------\n",
      "       Sample  Vein       SampleName            Scan  Voxelsize\n",
      "107  notch1_4  None         notch1_4  highresolution   5.000040\n",
      "131  notch1_4  None  notch1_4_rescan  highresolution   5.000018\n",
      "--------------------------------------------------------------------------------\n"
     ]
    }
   ],
   "source": [
    "# Let's see what is left\n",
    "for wanted in sorted(whichones):\n",
    "    print(15 * '-', 'For sample %s we have the data below' % wanted, 15 * '-', )\n",
    "    print(Data[Data['Sample'].str.contains(wanted)][['Sample', 'Vein', 'SampleName', 'Scan', 'Voxelsize']])\n",
    "    print(80*'-')"
   ]
  },
  {
   "cell_type": "code",
   "execution_count": 34,
   "metadata": {},
   "outputs": [],
   "source": [
    "# TODO: Drop original if there's a '_rescan' folder\n",
    "# for sample in Data.Sample.unique():\n",
    "#     if len(Data[Data.Sample == sample]) > 1:\n",
    "#         print(Data[Data.Sample == sample][['SampleName', 'Sample']])        \n",
    "#         print(Data[Data.Sample == sample][Data.SampleName == Data.Sample].index)"
   ]
  },
  {
   "cell_type": "code",
   "execution_count": 35,
   "metadata": {},
   "outputs": [
    {
     "data": {
      "text/plain": [
       "array(['ctrl1_portal', 'ctrl1_portal_rescan', 'ctrl2_portal_rescan',\n",
       "       'ctrl4_cava', 'ctrl5_cava_rescan', 'notch1_1', 'notch1_1_rescan',\n",
       "       'notch1_3_rescan', 'notch1_4', 'notch1_4_rescan'], dtype=object)"
      ]
     },
     "execution_count": 35,
     "metadata": {},
     "output_type": "execute_result"
    }
   ],
   "source": [
    "Data.SampleName.unique()"
   ]
  },
  {
   "cell_type": "code",
   "execution_count": 36,
   "metadata": {},
   "outputs": [],
   "source": [
    "import re\n",
    "def scanner(logfile, verbose=False):\n",
    "    hardwareversion = []\n",
    "    with open(logfile, 'r') as f:\n",
    "        for line in f:\n",
    "            if 'Scanner' in line:\n",
    "                if verbose:\n",
    "                    print(line)\n",
    "                # Sometimes it's SkyScan, sometimes Skyscan, so we have to regex it :)\n",
    "                machine = re.split('Sky.can', line)[1].strip()\n",
    "            if 'Hardware' in line:\n",
    "                if verbose:\n",
    "                    print(line)\n",
    "                hardwareversion = line.split('=')[1].strip()\n",
    "    if hardwareversion:\n",
    "        return('SkyScan %s (Version %s)' % (machine, hardwareversion))\n",
    "    else:\n",
    "        return('SkyScan ' + machine)    "
   ]
  },
  {
   "cell_type": "code",
   "execution_count": 37,
   "metadata": {},
   "outputs": [],
   "source": [
    "def controlsoftware(logfile, verbose=False):\n",
    "    with open(logfile, 'r') as f:\n",
    "        for line in f:\n",
    "            if 'Software Ver' in line:\n",
    "                if verbose:\n",
    "                    print(line)\n",
    "                version = line.split('=')[1].strip()\n",
    "    return(version)"
   ]
  },
  {
   "cell_type": "code",
   "execution_count": 38,
   "metadata": {},
   "outputs": [],
   "source": [
    "# Get parameters which we'll need for the paragraph\n",
    "Data['Scanner'] = [scanner(log) for log in Data['LogFile']]\n",
    "Data['ControlSoftware'] = [controlsoftware(log) for log in Data['LogFile']]"
   ]
  },
  {
   "cell_type": "code",
   "execution_count": 39,
   "metadata": {},
   "outputs": [],
   "source": [
    "def source(logfile, verbose=False):\n",
    "    with open(logfile, 'r') as f:\n",
    "        for line in f:\n",
    "            if 'Source Ty' in line:\n",
    "                if verbose:\n",
    "                    print(line)\n",
    "                source = line.split('=')[1].strip()\n",
    "                if 'HAMAMA' in source:\n",
    "                    # We split the string at '_L' to separate HAMAMATSU_L118...\n",
    "                    # Afterwards we properly capitalize HAMAMATSU and\n",
    "                    # join the strings back with ' L' to get the beginning of the reference back\n",
    "                    source = ' L'.join([s.capitalize() for s in source.split('_L')])\n",
    "    return(source)"
   ]
  },
  {
   "cell_type": "code",
   "execution_count": 40,
   "metadata": {},
   "outputs": [],
   "source": [
    "def camera(logfile, verbose=False):\n",
    "    with open(logfile, 'r') as f:\n",
    "        for line in f:\n",
    "            if 'Camera T' in line or 'Camera=' in line:\n",
    "                if verbose:\n",
    "                    print(line)\n",
    "                cam = line.split('=')[1].strip().strip(' camera')\n",
    "    return(cam)"
   ]
  },
  {
   "cell_type": "code",
   "execution_count": 41,
   "metadata": {},
   "outputs": [],
   "source": [
    "Data['Source'] = [source(log) for log in Data['LogFile']]\n",
    "Data['Camera'] = [camera(log) for log in Data['LogFile']]"
   ]
  },
  {
   "cell_type": "code",
   "execution_count": 42,
   "metadata": {},
   "outputs": [],
   "source": [
    "def voltage(logfile, verbose=False):\n",
    "    with open(logfile, 'r') as f:\n",
    "        for line in f:\n",
    "            if 'Voltage' in line:\n",
    "                if verbose:\n",
    "                    print(line)\n",
    "                V = float(line.split('=')[1])\n",
    "    return(V)"
   ]
  },
  {
   "cell_type": "code",
   "execution_count": 43,
   "metadata": {},
   "outputs": [],
   "source": [
    "def current(logfile, verbose=False):\n",
    "    with open(logfile, 'r') as f:\n",
    "        for line in f:\n",
    "            if 'Source Current' in line:\n",
    "                if verbose:\n",
    "                    print(line)\n",
    "                A = float(line.split('=')[1])\n",
    "    return(A)"
   ]
  },
  {
   "cell_type": "code",
   "execution_count": 44,
   "metadata": {},
   "outputs": [],
   "source": [
    "def whichfilter(logfile, verbose=False):\n",
    "    with open(logfile, 'r') as f:\n",
    "        for line in f:\n",
    "            if 'Filter=' in line:\n",
    "                if verbose:\n",
    "                    print(line)\n",
    "                fltr = line.split('=')[1].strip().replace('  ', ' ')\n",
    "                if fltr=='No Filter':\n",
    "                    fltr=False\n",
    "    return(fltr)"
   ]
  },
  {
   "cell_type": "code",
   "execution_count": 45,
   "metadata": {},
   "outputs": [],
   "source": [
    "Data['Voltage'] = [voltage(log) for log in Data['LogFile']]\n",
    "Data['Current'] = [current(log) for log in Data['LogFile']]\n",
    "Data['Filter'] = [whichfilter(log) for log in Data['LogFile']]"
   ]
  },
  {
   "cell_type": "code",
   "execution_count": 46,
   "metadata": {},
   "outputs": [],
   "source": [
    "def camerasize(logfile, verbose=False):\n",
    "    with open(logfile, 'r') as f:\n",
    "        for line in f:\n",
    "            if 'Columns' in line:\n",
    "                if verbose:\n",
    "                    print(line)\n",
    "                columns = int(line.split('=')[1])\n",
    "            if 'Rows' in line:\n",
    "                if verbose:\n",
    "                    print(line)\n",
    "                rows = int(line.split('=')[1])\n",
    "    return(columns, rows)"
   ]
  },
  {
   "cell_type": "code",
   "execution_count": 47,
   "metadata": {},
   "outputs": [],
   "source": [
    "def numproj(logfile, verbose=False):\n",
    "    with open(logfile, 'r') as f:\n",
    "        for line in f:\n",
    "            if 'f Files' in line:\n",
    "                if verbose:\n",
    "                    print(line)\n",
    "                numproj = int(line.split('=')[1])\n",
    "    return(numproj)"
   ]
  },
  {
   "cell_type": "code",
   "execution_count": 48,
   "metadata": {},
   "outputs": [],
   "source": [
    "def rotationstep(logfile, verbose=False):\n",
    "    with open(logfile, 'r') as f:\n",
    "        for line in f:\n",
    "            if 'Rotation Step' in line:\n",
    "                if verbose:\n",
    "                    print(line)\n",
    "                rotstep = float(line.split('=')[1])\n",
    "    return(rotstep)"
   ]
  },
  {
   "cell_type": "code",
   "execution_count": 49,
   "metadata": {},
   "outputs": [],
   "source": [
    "Data['CameraSize'] = [camerasize(log) for log in Data['LogFile']]\n",
    "Data['NumberOfProjections'] = [numproj(log) for log in Data['LogFile']]\n",
    "Data['RotationStep'] = [rotationstep(log) for log in Data['LogFile']]"
   ]
  },
  {
   "cell_type": "code",
   "execution_count": 50,
   "metadata": {},
   "outputs": [],
   "source": [
    "def stacks(logfile, verbose=False):\n",
    "    with open(logfile, 'r') as f:\n",
    "        # If only one stack, then there's nothing in the log file\n",
    "        numstacks = 0\n",
    "        for line in f:\n",
    "            if 'of connected scans' in line:\n",
    "                if verbose:\n",
    "                    print(line)\n",
    "                # The 'Sub-scan scan length' is listed in the log file\n",
    "                # We simply select the last one, and add 1, since Bruker also starts to count at zero\n",
    "                numstacks = int(line.split('=')[1])\n",
    "    return(numstacks)"
   ]
  },
  {
   "cell_type": "code",
   "execution_count": 51,
   "metadata": {},
   "outputs": [],
   "source": [
    "def overlapscan(logfile, verbose=False):\n",
    "    with open(logfile, 'r') as f:\n",
    "        for line in f:\n",
    "            if 'Horizontal Offset Positions' in line:\n",
    "                if verbose:\n",
    "                    print(line)\n",
    "                wide = int(line.split('=')[1])\n",
    "                if wide > 1:\n",
    "                    return(True)\n",
    "                else:\n",
    "                    return(False)"
   ]
  },
  {
   "cell_type": "code",
   "execution_count": 52,
   "metadata": {},
   "outputs": [],
   "source": [
    "def threesixtyscan(logfile, verbose=False):\n",
    "    threesixty = False\n",
    "    with open(logfile, 'r') as f:\n",
    "        for line in f:\n",
    "            if '0 Rotation' in line:\n",
    "                if verbose:\n",
    "                    print(line)\n",
    "                threesixty = line.split('=')[1].strip()\n",
    "                if threesixty == 'YES':\n",
    "                    return(True)\n",
    "                else:\n",
    "                    return(False)"
   ]
  },
  {
   "cell_type": "code",
   "execution_count": 53,
   "metadata": {},
   "outputs": [],
   "source": [
    "Data['Stacks'] = [stacks(log) for log in Data['LogFile']]\n",
    "Data['Wide'] = [overlapscan(log) for log in Data.LogFile]\n",
    "Data['ThreeSixty'] = [threesixtyscan(log) for log in Data['LogFile']]"
   ]
  },
  {
   "cell_type": "code",
   "execution_count": 54,
   "metadata": {},
   "outputs": [],
   "source": [
    "def exposure(logfile, verbose=False):\n",
    "    with open(logfile, 'r') as f:\n",
    "        for line in f:\n",
    "            if 'Exposure' in line:\n",
    "                if verbose:\n",
    "                    print(line)\n",
    "                exp = int(line.split('=')[1])\n",
    "    return(exp)"
   ]
  },
  {
   "cell_type": "code",
   "execution_count": 55,
   "metadata": {},
   "outputs": [],
   "source": [
    "def averaging(logfile, verbose=False):\n",
    "    with open(logfile, 'r') as f:\n",
    "        for line in f:\n",
    "            if 'Avera' in line:\n",
    "                if verbose:\n",
    "                    print(line)\n",
    "                details = line.split('=')[1]\n",
    "                if 'ON' in details:\n",
    "                    # https://stackoverflow.com/a/4894156/323100\n",
    "                    avg = int(details[details.find(\"(\")+1:details.find(\")\")])\n",
    "                else:\n",
    "                    avg=False\n",
    "    return(avg)"
   ]
  },
  {
   "cell_type": "code",
   "execution_count": 56,
   "metadata": {},
   "outputs": [],
   "source": [
    "Data['Exposure'] = [exposure(log) for log in Data['LogFile']]\n",
    "Data['Averaging'] = [averaging(log) for log in Data['LogFile']]"
   ]
  },
  {
   "cell_type": "code",
   "execution_count": 57,
   "metadata": {},
   "outputs": [],
   "source": [
    "def ringremoval(logfile, verbose=False):\n",
    "    ring = None\n",
    "    with open(logfile, 'r') as f:\n",
    "        for line in f:\n",
    "            if 'Ring' in line:\n",
    "                if verbose:\n",
    "                    print(line)\n",
    "                ring = int(line.split('=')[1].strip())\n",
    "    return(ring)"
   ]
  },
  {
   "cell_type": "code",
   "execution_count": 58,
   "metadata": {},
   "outputs": [],
   "source": [
    "def beamhardening(logfile, verbose=False):\n",
    "    bh = None\n",
    "    with open(logfile, 'r') as f:\n",
    "        for line in f:\n",
    "            if 'ardeni' in line:\n",
    "                if verbose:\n",
    "                    print(line)\n",
    "                bh = int(line.split('=')[1].strip())\n",
    "    return(bh)"
   ]
  },
  {
   "cell_type": "code",
   "execution_count": 59,
   "metadata": {},
   "outputs": [],
   "source": [
    "def get_reconstruction_grayvalue(logfile):\n",
    "    grayvalue = None\n",
    "    \"\"\"How did we map the brightness of the reconstructions?\"\"\"\n",
    "    with open(logfile, 'r') as f:\n",
    "        for line in f:\n",
    "            if 'Maximum for' in line:\n",
    "                grayvalue = float(line.split('=')[1])\n",
    "    return(grayvalue)"
   ]
  },
  {
   "cell_type": "code",
   "execution_count": 60,
   "metadata": {},
   "outputs": [],
   "source": [
    "Data['RingRemoval'] = [ringremoval(log) for log in Data['LogFile']]\n",
    "Data['Beamhardening'] = [beamhardening(log) for log in Data['LogFile']]\n",
    "Data['GrayValueMax'] = [get_reconstruction_grayvalue(log) for log in Data['LogFile']]"
   ]
  },
  {
   "cell_type": "code",
   "execution_count": 61,
   "metadata": {},
   "outputs": [],
   "source": [
    "import datetime\n",
    "def duration(logfile, verbose=False):\n",
    "    '''Returns scantime in *seconds*'''\n",
    "    with open(logfile, 'r') as f:\n",
    "        for line in f:\n",
    "            if 'Scan duration' in line:\n",
    "                if verbose:\n",
    "                    print(line)\n",
    "                duration = line.split('=')[1].strip()\n",
    "    # Sometimes it's '00:24:26', sometimes '0h:52m:53s' :-/\n",
    "    if 'h' in duration:\n",
    "        scantime = datetime.datetime.strptime(duration, '%Hh:%Mm:%Ss')\n",
    "    else:\n",
    "        scantime = datetime.datetime.strptime(duration, '%H:%M:%S')\n",
    "    return((scantime-datetime.datetime(1900,1,1)).total_seconds())"
   ]
  },
  {
   "cell_type": "code",
   "execution_count": 62,
   "metadata": {},
   "outputs": [],
   "source": [
    "Data['Scan time'] = [duration(log) for log in Data['LogFile']]\n",
    "Data['Scan time total'] = [ st * stk  for st, stk in zip(Data['Scan time'], Data['Stacks'])]"
   ]
  },
  {
   "cell_type": "code",
   "execution_count": 63,
   "metadata": {},
   "outputs": [],
   "source": [
    "def nreconversion(logfile, verbose=False):\n",
    "    Program = None\n",
    "    Version = None\n",
    "    with open(logfile, 'r') as f:\n",
    "        for line in f:\n",
    "            if 'Reconstruction Program' in line:\n",
    "                if verbose:\n",
    "                    print(line)\n",
    "                Program = line.split('=')[1].strip()\n",
    "            if 'Program Version' in line:\n",
    "                if verbose:\n",
    "                    print(line)\n",
    "                Version = line.split('sion:')[1].strip()\n",
    "    return(Program, Version)"
   ]
  },
  {
   "cell_type": "code",
   "execution_count": 64,
   "metadata": {},
   "outputs": [],
   "source": [
    "# Only get the version string, not which software\n",
    "Data['NRecon'] = [nreconversion(log)[1] for log in Data['LogFile']]"
   ]
  },
  {
   "cell_type": "code",
   "execution_count": 65,
   "metadata": {},
   "outputs": [
    {
     "name": "stdout",
     "output_type": "stream",
     "text": [
      "We scanned all datasets with equal voxel size, namely 5.0 um.\n"
     ]
    }
   ],
   "source": [
    "# Check voxel sizes (*rounded* to two after-comma values)\n",
    "# If different, spit out which values\n",
    "roundto = 4\n",
    "if len(Data['Voxelsize'].round(roundto).unique()) > 1:\n",
    "    print('We scanned all datasets with %s different voxel sizes' % len(Data['Voxelsize'].round(roundto).unique()))\n",
    "    for vs in sorted(Data['Voxelsize'].round(roundto).unique()):\n",
    "        print('-', vs, 'um for ', end='')\n",
    "        for c, row in Data.iterrows():\n",
    "            if float(vs) == round(row['Voxelsize'], roundto):\n",
    "                print(os.path.join(row['Sample'], row['Scan']), end=', ')\n",
    "        print('')\n",
    "else:\n",
    "    print('We scanned all datasets with equal voxel size, namely %s um.' % float(Data['Voxelsize'].round(roundto).unique()))"
   ]
  },
  {
   "cell_type": "code",
   "execution_count": 66,
   "metadata": {},
   "outputs": [],
   "source": [
    "## Get an overview over the total scan time\n",
    "## Nice output based on https://stackoverflow.com/a/8907407/323100\n",
    "#total_seconds = int(Data['Scan time total'].sum().total_seconds())\n",
    "#hours, remainder = divmod(total_seconds,60*60)\n",
    "#minutes, seconds = divmod(remainder,60)\n",
    "#print('In total, we scanned for %s hours and %s minutes)' % (hours, minutes))\n",
    "#for machine in Data['Scanner'].unique():\n",
    "#    total_seconds = int(Data[Data['Scanner'] == machine]['Scan time total'].sum().total_seconds())\n",
    "#    hours, remainder = divmod(total_seconds,60*60)\n",
    "#    minutes, seconds = divmod(remainder,60)\n",
    "#    print('\\t - Of these, we scanned %s hours and %s minutes on the %s,'\n",
    "#          'for %s scans' % (hours,\n",
    "#                            minutes,\n",
    "#                            machine,\n",
    "#                            len(Data[Data['Scanner'] == machine])))"
   ]
  },
  {
   "cell_type": "code",
   "execution_count": 67,
   "metadata": {},
   "outputs": [],
   "source": [
    "Data.to_excel('Details.xlsx')"
   ]
  },
  {
   "cell_type": "code",
   "execution_count": 68,
   "metadata": {},
   "outputs": [],
   "source": [
    "Data.to_excel(os.path.join(Root,'Details.xlsx'))"
   ]
  },
  {
   "cell_type": "code",
   "execution_count": 69,
   "metadata": {},
   "outputs": [
    {
     "data": {
      "text/html": [
       "<div>\n",
       "<style scoped>\n",
       "    .dataframe tbody tr th:only-of-type {\n",
       "        vertical-align: middle;\n",
       "    }\n",
       "\n",
       "    .dataframe tbody tr th {\n",
       "        vertical-align: top;\n",
       "    }\n",
       "\n",
       "    .dataframe thead th {\n",
       "        text-align: right;\n",
       "    }\n",
       "</style>\n",
       "<table border=\"1\" class=\"dataframe\">\n",
       "  <thead>\n",
       "    <tr style=\"text-align: right;\">\n",
       "      <th></th>\n",
       "      <th>Voxelsize</th>\n",
       "      <th>Voltage</th>\n",
       "      <th>Current</th>\n",
       "      <th>NumberOfProjections</th>\n",
       "      <th>RotationStep</th>\n",
       "      <th>Stacks</th>\n",
       "      <th>Wide</th>\n",
       "      <th>ThreeSixty</th>\n",
       "      <th>Exposure</th>\n",
       "      <th>Averaging</th>\n",
       "      <th>RingRemoval</th>\n",
       "      <th>Beamhardening</th>\n",
       "      <th>GrayValueMax</th>\n",
       "      <th>Scan time</th>\n",
       "      <th>Scan time total</th>\n",
       "    </tr>\n",
       "    <tr>\n",
       "      <th>Sample</th>\n",
       "      <th></th>\n",
       "      <th></th>\n",
       "      <th></th>\n",
       "      <th></th>\n",
       "      <th></th>\n",
       "      <th></th>\n",
       "      <th></th>\n",
       "      <th></th>\n",
       "      <th></th>\n",
       "      <th></th>\n",
       "      <th></th>\n",
       "      <th></th>\n",
       "      <th></th>\n",
       "      <th></th>\n",
       "      <th></th>\n",
       "    </tr>\n",
       "  </thead>\n",
       "  <tbody>\n",
       "    <tr>\n",
       "      <th>ctrl1</th>\n",
       "      <td>5.000029</td>\n",
       "      <td>100.0</td>\n",
       "      <td>100.0</td>\n",
       "      <td>1895.0</td>\n",
       "      <td>0.1</td>\n",
       "      <td>2.0</td>\n",
       "      <td>False</td>\n",
       "      <td>False</td>\n",
       "      <td>4895.5</td>\n",
       "      <td>3.0</td>\n",
       "      <td>13.5</td>\n",
       "      <td>0.0</td>\n",
       "      <td>0.105714</td>\n",
       "      <td>29849.5</td>\n",
       "      <td>59699.0</td>\n",
       "    </tr>\n",
       "    <tr>\n",
       "      <th>ctrl2</th>\n",
       "      <td>5.000018</td>\n",
       "      <td>100.0</td>\n",
       "      <td>100.0</td>\n",
       "      <td>1895.0</td>\n",
       "      <td>0.1</td>\n",
       "      <td>3.0</td>\n",
       "      <td>False</td>\n",
       "      <td>False</td>\n",
       "      <td>4400.0</td>\n",
       "      <td>3.0</td>\n",
       "      <td>13.0</td>\n",
       "      <td>0.0</td>\n",
       "      <td>0.033987</td>\n",
       "      <td>25022.0</td>\n",
       "      <td>75066.0</td>\n",
       "    </tr>\n",
       "    <tr>\n",
       "      <th>ctrl4</th>\n",
       "      <td>5.000040</td>\n",
       "      <td>100.0</td>\n",
       "      <td>100.0</td>\n",
       "      <td>1895.0</td>\n",
       "      <td>0.1</td>\n",
       "      <td>2.0</td>\n",
       "      <td>False</td>\n",
       "      <td>False</td>\n",
       "      <td>5391.0</td>\n",
       "      <td>3.0</td>\n",
       "      <td>20.0</td>\n",
       "      <td>0.0</td>\n",
       "      <td>0.150000</td>\n",
       "      <td>34677.0</td>\n",
       "      <td>69354.0</td>\n",
       "    </tr>\n",
       "    <tr>\n",
       "      <th>ctrl5</th>\n",
       "      <td>5.000018</td>\n",
       "      <td>100.0</td>\n",
       "      <td>100.0</td>\n",
       "      <td>1895.0</td>\n",
       "      <td>0.1</td>\n",
       "      <td>2.0</td>\n",
       "      <td>False</td>\n",
       "      <td>False</td>\n",
       "      <td>4400.0</td>\n",
       "      <td>3.0</td>\n",
       "      <td>13.0</td>\n",
       "      <td>0.0</td>\n",
       "      <td>0.115389</td>\n",
       "      <td>25022.0</td>\n",
       "      <td>50044.0</td>\n",
       "    </tr>\n",
       "    <tr>\n",
       "      <th>notch1_1</th>\n",
       "      <td>5.000029</td>\n",
       "      <td>100.0</td>\n",
       "      <td>100.0</td>\n",
       "      <td>1895.0</td>\n",
       "      <td>0.1</td>\n",
       "      <td>2.0</td>\n",
       "      <td>False</td>\n",
       "      <td>False</td>\n",
       "      <td>4895.5</td>\n",
       "      <td>3.0</td>\n",
       "      <td>16.5</td>\n",
       "      <td>0.0</td>\n",
       "      <td>0.274951</td>\n",
       "      <td>29819.5</td>\n",
       "      <td>59639.0</td>\n",
       "    </tr>\n",
       "    <tr>\n",
       "      <th>notch1_3</th>\n",
       "      <td>5.000018</td>\n",
       "      <td>100.0</td>\n",
       "      <td>100.0</td>\n",
       "      <td>1895.0</td>\n",
       "      <td>0.1</td>\n",
       "      <td>2.0</td>\n",
       "      <td>False</td>\n",
       "      <td>False</td>\n",
       "      <td>4400.0</td>\n",
       "      <td>3.0</td>\n",
       "      <td>13.0</td>\n",
       "      <td>0.0</td>\n",
       "      <td>0.098418</td>\n",
       "      <td>25022.0</td>\n",
       "      <td>50044.0</td>\n",
       "    </tr>\n",
       "    <tr>\n",
       "      <th>notch1_4</th>\n",
       "      <td>5.000029</td>\n",
       "      <td>100.0</td>\n",
       "      <td>100.0</td>\n",
       "      <td>1895.0</td>\n",
       "      <td>0.1</td>\n",
       "      <td>2.0</td>\n",
       "      <td>False</td>\n",
       "      <td>False</td>\n",
       "      <td>4895.5</td>\n",
       "      <td>3.0</td>\n",
       "      <td>56.5</td>\n",
       "      <td>0.0</td>\n",
       "      <td>0.151584</td>\n",
       "      <td>29736.5</td>\n",
       "      <td>59473.0</td>\n",
       "    </tr>\n",
       "  </tbody>\n",
       "</table>\n",
       "</div>"
      ],
      "text/plain": [
       "          Voxelsize  Voltage  Current  NumberOfProjections  RotationStep  \\\n",
       "Sample                                                                     \n",
       "ctrl1      5.000029    100.0    100.0               1895.0           0.1   \n",
       "ctrl2      5.000018    100.0    100.0               1895.0           0.1   \n",
       "ctrl4      5.000040    100.0    100.0               1895.0           0.1   \n",
       "ctrl5      5.000018    100.0    100.0               1895.0           0.1   \n",
       "notch1_1   5.000029    100.0    100.0               1895.0           0.1   \n",
       "notch1_3   5.000018    100.0    100.0               1895.0           0.1   \n",
       "notch1_4   5.000029    100.0    100.0               1895.0           0.1   \n",
       "\n",
       "          Stacks   Wide  ThreeSixty  Exposure  Averaging  RingRemoval  \\\n",
       "Sample                                                                  \n",
       "ctrl1        2.0  False       False    4895.5        3.0         13.5   \n",
       "ctrl2        3.0  False       False    4400.0        3.0         13.0   \n",
       "ctrl4        2.0  False       False    5391.0        3.0         20.0   \n",
       "ctrl5        2.0  False       False    4400.0        3.0         13.0   \n",
       "notch1_1     2.0  False       False    4895.5        3.0         16.5   \n",
       "notch1_3     2.0  False       False    4400.0        3.0         13.0   \n",
       "notch1_4     2.0  False       False    4895.5        3.0         56.5   \n",
       "\n",
       "          Beamhardening  GrayValueMax  Scan time  Scan time total  \n",
       "Sample                                                             \n",
       "ctrl1               0.0      0.105714    29849.5          59699.0  \n",
       "ctrl2               0.0      0.033987    25022.0          75066.0  \n",
       "ctrl4               0.0      0.150000    34677.0          69354.0  \n",
       "ctrl5               0.0      0.115389    25022.0          50044.0  \n",
       "notch1_1            0.0      0.274951    29819.5          59639.0  \n",
       "notch1_3            0.0      0.098418    25022.0          50044.0  \n",
       "notch1_4            0.0      0.151584    29736.5          59473.0  "
      ]
     },
     "execution_count": 69,
     "metadata": {},
     "output_type": "execute_result"
    }
   ],
   "source": [
    "Data.groupby('Sample').mean()"
   ]
  },
  {
   "cell_type": "code",
   "execution_count": 70,
   "metadata": {},
   "outputs": [
    {
     "data": {
      "text/html": [
       "<div>\n",
       "<style scoped>\n",
       "    .dataframe tbody tr th:only-of-type {\n",
       "        vertical-align: middle;\n",
       "    }\n",
       "\n",
       "    .dataframe tbody tr th {\n",
       "        vertical-align: top;\n",
       "    }\n",
       "\n",
       "    .dataframe thead th {\n",
       "        text-align: right;\n",
       "    }\n",
       "</style>\n",
       "<table border=\"1\" class=\"dataframe\">\n",
       "  <thead>\n",
       "    <tr style=\"text-align: right;\">\n",
       "      <th></th>\n",
       "      <th>Voxelsize</th>\n",
       "      <th>Voltage</th>\n",
       "      <th>Current</th>\n",
       "      <th>NumberOfProjections</th>\n",
       "      <th>RotationStep</th>\n",
       "      <th>Stacks</th>\n",
       "      <th>Wide</th>\n",
       "      <th>ThreeSixty</th>\n",
       "      <th>Exposure</th>\n",
       "      <th>Averaging</th>\n",
       "      <th>RingRemoval</th>\n",
       "      <th>Beamhardening</th>\n",
       "      <th>GrayValueMax</th>\n",
       "      <th>Scan time</th>\n",
       "      <th>Scan time total</th>\n",
       "    </tr>\n",
       "    <tr>\n",
       "      <th>SampleName</th>\n",
       "      <th></th>\n",
       "      <th></th>\n",
       "      <th></th>\n",
       "      <th></th>\n",
       "      <th></th>\n",
       "      <th></th>\n",
       "      <th></th>\n",
       "      <th></th>\n",
       "      <th></th>\n",
       "      <th></th>\n",
       "      <th></th>\n",
       "      <th></th>\n",
       "      <th></th>\n",
       "      <th></th>\n",
       "      <th></th>\n",
       "    </tr>\n",
       "  </thead>\n",
       "  <tbody>\n",
       "    <tr>\n",
       "      <th>ctrl1_portal</th>\n",
       "      <td>5.000040</td>\n",
       "      <td>100.0</td>\n",
       "      <td>100.0</td>\n",
       "      <td>1895</td>\n",
       "      <td>0.1</td>\n",
       "      <td>2</td>\n",
       "      <td>False</td>\n",
       "      <td>False</td>\n",
       "      <td>5391</td>\n",
       "      <td>3</td>\n",
       "      <td>20</td>\n",
       "      <td>0</td>\n",
       "      <td>0.150000</td>\n",
       "      <td>34677.0</td>\n",
       "      <td>69354.0</td>\n",
       "    </tr>\n",
       "    <tr>\n",
       "      <th>ctrl1_portal_rescan</th>\n",
       "      <td>5.000018</td>\n",
       "      <td>100.0</td>\n",
       "      <td>100.0</td>\n",
       "      <td>1895</td>\n",
       "      <td>0.1</td>\n",
       "      <td>2</td>\n",
       "      <td>False</td>\n",
       "      <td>False</td>\n",
       "      <td>4400</td>\n",
       "      <td>3</td>\n",
       "      <td>7</td>\n",
       "      <td>0</td>\n",
       "      <td>0.061429</td>\n",
       "      <td>25022.0</td>\n",
       "      <td>50044.0</td>\n",
       "    </tr>\n",
       "    <tr>\n",
       "      <th>ctrl2_portal_rescan</th>\n",
       "      <td>5.000018</td>\n",
       "      <td>100.0</td>\n",
       "      <td>100.0</td>\n",
       "      <td>1895</td>\n",
       "      <td>0.1</td>\n",
       "      <td>3</td>\n",
       "      <td>False</td>\n",
       "      <td>False</td>\n",
       "      <td>4400</td>\n",
       "      <td>3</td>\n",
       "      <td>13</td>\n",
       "      <td>0</td>\n",
       "      <td>0.033987</td>\n",
       "      <td>25022.0</td>\n",
       "      <td>75066.0</td>\n",
       "    </tr>\n",
       "    <tr>\n",
       "      <th>ctrl4_cava</th>\n",
       "      <td>5.000040</td>\n",
       "      <td>100.0</td>\n",
       "      <td>100.0</td>\n",
       "      <td>1895</td>\n",
       "      <td>0.1</td>\n",
       "      <td>2</td>\n",
       "      <td>False</td>\n",
       "      <td>False</td>\n",
       "      <td>5391</td>\n",
       "      <td>3</td>\n",
       "      <td>20</td>\n",
       "      <td>0</td>\n",
       "      <td>0.150000</td>\n",
       "      <td>34677.0</td>\n",
       "      <td>69354.0</td>\n",
       "    </tr>\n",
       "    <tr>\n",
       "      <th>ctrl5_cava_rescan</th>\n",
       "      <td>5.000018</td>\n",
       "      <td>100.0</td>\n",
       "      <td>100.0</td>\n",
       "      <td>1895</td>\n",
       "      <td>0.1</td>\n",
       "      <td>2</td>\n",
       "      <td>False</td>\n",
       "      <td>False</td>\n",
       "      <td>4400</td>\n",
       "      <td>3</td>\n",
       "      <td>13</td>\n",
       "      <td>0</td>\n",
       "      <td>0.115389</td>\n",
       "      <td>25022.0</td>\n",
       "      <td>50044.0</td>\n",
       "    </tr>\n",
       "    <tr>\n",
       "      <th>notch1_1</th>\n",
       "      <td>5.000040</td>\n",
       "      <td>100.0</td>\n",
       "      <td>100.0</td>\n",
       "      <td>1895</td>\n",
       "      <td>0.1</td>\n",
       "      <td>2</td>\n",
       "      <td>False</td>\n",
       "      <td>False</td>\n",
       "      <td>5391</td>\n",
       "      <td>3</td>\n",
       "      <td>20</td>\n",
       "      <td>0</td>\n",
       "      <td>0.500102</td>\n",
       "      <td>34617.0</td>\n",
       "      <td>69234.0</td>\n",
       "    </tr>\n",
       "    <tr>\n",
       "      <th>notch1_1_rescan</th>\n",
       "      <td>5.000018</td>\n",
       "      <td>100.0</td>\n",
       "      <td>100.0</td>\n",
       "      <td>1895</td>\n",
       "      <td>0.1</td>\n",
       "      <td>2</td>\n",
       "      <td>False</td>\n",
       "      <td>False</td>\n",
       "      <td>4400</td>\n",
       "      <td>3</td>\n",
       "      <td>13</td>\n",
       "      <td>0</td>\n",
       "      <td>0.049799</td>\n",
       "      <td>25022.0</td>\n",
       "      <td>50044.0</td>\n",
       "    </tr>\n",
       "    <tr>\n",
       "      <th>notch1_3_rescan</th>\n",
       "      <td>5.000018</td>\n",
       "      <td>100.0</td>\n",
       "      <td>100.0</td>\n",
       "      <td>1895</td>\n",
       "      <td>0.1</td>\n",
       "      <td>2</td>\n",
       "      <td>False</td>\n",
       "      <td>False</td>\n",
       "      <td>4400</td>\n",
       "      <td>3</td>\n",
       "      <td>13</td>\n",
       "      <td>0</td>\n",
       "      <td>0.098418</td>\n",
       "      <td>25022.0</td>\n",
       "      <td>50044.0</td>\n",
       "    </tr>\n",
       "    <tr>\n",
       "      <th>notch1_4</th>\n",
       "      <td>5.000040</td>\n",
       "      <td>100.0</td>\n",
       "      <td>100.0</td>\n",
       "      <td>1895</td>\n",
       "      <td>0.1</td>\n",
       "      <td>2</td>\n",
       "      <td>False</td>\n",
       "      <td>False</td>\n",
       "      <td>5391</td>\n",
       "      <td>3</td>\n",
       "      <td>100</td>\n",
       "      <td>0</td>\n",
       "      <td>0.231324</td>\n",
       "      <td>34451.0</td>\n",
       "      <td>68902.0</td>\n",
       "    </tr>\n",
       "    <tr>\n",
       "      <th>notch1_4_rescan</th>\n",
       "      <td>5.000018</td>\n",
       "      <td>100.0</td>\n",
       "      <td>100.0</td>\n",
       "      <td>1895</td>\n",
       "      <td>0.1</td>\n",
       "      <td>2</td>\n",
       "      <td>False</td>\n",
       "      <td>False</td>\n",
       "      <td>4400</td>\n",
       "      <td>3</td>\n",
       "      <td>13</td>\n",
       "      <td>0</td>\n",
       "      <td>0.071843</td>\n",
       "      <td>25022.0</td>\n",
       "      <td>50044.0</td>\n",
       "    </tr>\n",
       "  </tbody>\n",
       "</table>\n",
       "</div>"
      ],
      "text/plain": [
       "                     Voxelsize  Voltage  Current  NumberOfProjections  \\\n",
       "SampleName                                                              \n",
       "ctrl1_portal          5.000040    100.0    100.0                 1895   \n",
       "ctrl1_portal_rescan   5.000018    100.0    100.0                 1895   \n",
       "ctrl2_portal_rescan   5.000018    100.0    100.0                 1895   \n",
       "ctrl4_cava            5.000040    100.0    100.0                 1895   \n",
       "ctrl5_cava_rescan     5.000018    100.0    100.0                 1895   \n",
       "notch1_1              5.000040    100.0    100.0                 1895   \n",
       "notch1_1_rescan       5.000018    100.0    100.0                 1895   \n",
       "notch1_3_rescan       5.000018    100.0    100.0                 1895   \n",
       "notch1_4              5.000040    100.0    100.0                 1895   \n",
       "notch1_4_rescan       5.000018    100.0    100.0                 1895   \n",
       "\n",
       "                     RotationStep  Stacks   Wide  ThreeSixty  Exposure  \\\n",
       "SampleName                                                               \n",
       "ctrl1_portal                  0.1       2  False       False      5391   \n",
       "ctrl1_portal_rescan           0.1       2  False       False      4400   \n",
       "ctrl2_portal_rescan           0.1       3  False       False      4400   \n",
       "ctrl4_cava                    0.1       2  False       False      5391   \n",
       "ctrl5_cava_rescan             0.1       2  False       False      4400   \n",
       "notch1_1                      0.1       2  False       False      5391   \n",
       "notch1_1_rescan               0.1       2  False       False      4400   \n",
       "notch1_3_rescan               0.1       2  False       False      4400   \n",
       "notch1_4                      0.1       2  False       False      5391   \n",
       "notch1_4_rescan               0.1       2  False       False      4400   \n",
       "\n",
       "                     Averaging  RingRemoval  Beamhardening  GrayValueMax  \\\n",
       "SampleName                                                                 \n",
       "ctrl1_portal                 3           20              0      0.150000   \n",
       "ctrl1_portal_rescan          3            7              0      0.061429   \n",
       "ctrl2_portal_rescan          3           13              0      0.033987   \n",
       "ctrl4_cava                   3           20              0      0.150000   \n",
       "ctrl5_cava_rescan            3           13              0      0.115389   \n",
       "notch1_1                     3           20              0      0.500102   \n",
       "notch1_1_rescan              3           13              0      0.049799   \n",
       "notch1_3_rescan              3           13              0      0.098418   \n",
       "notch1_4                     3          100              0      0.231324   \n",
       "notch1_4_rescan              3           13              0      0.071843   \n",
       "\n",
       "                     Scan time  Scan time total  \n",
       "SampleName                                       \n",
       "ctrl1_portal           34677.0          69354.0  \n",
       "ctrl1_portal_rescan    25022.0          50044.0  \n",
       "ctrl2_portal_rescan    25022.0          75066.0  \n",
       "ctrl4_cava             34677.0          69354.0  \n",
       "ctrl5_cava_rescan      25022.0          50044.0  \n",
       "notch1_1               34617.0          69234.0  \n",
       "notch1_1_rescan        25022.0          50044.0  \n",
       "notch1_3_rescan        25022.0          50044.0  \n",
       "notch1_4               34451.0          68902.0  \n",
       "notch1_4_rescan        25022.0          50044.0  "
      ]
     },
     "execution_count": 70,
     "metadata": {},
     "output_type": "execute_result"
    }
   ],
   "source": [
    "Data.groupby('SampleName').mean()"
   ]
  },
  {
   "cell_type": "code",
   "execution_count": 71,
   "metadata": {},
   "outputs": [
    {
     "data": {
      "text/html": [
       "<div>\n",
       "<style scoped>\n",
       "    .dataframe tbody tr th:only-of-type {\n",
       "        vertical-align: middle;\n",
       "    }\n",
       "\n",
       "    .dataframe tbody tr th {\n",
       "        vertical-align: top;\n",
       "    }\n",
       "\n",
       "    .dataframe thead th {\n",
       "        text-align: right;\n",
       "    }\n",
       "</style>\n",
       "<table border=\"1\" class=\"dataframe\">\n",
       "  <thead>\n",
       "    <tr style=\"text-align: right;\">\n",
       "      <th></th>\n",
       "      <th>Voxelsize</th>\n",
       "      <th>Voltage</th>\n",
       "      <th>Current</th>\n",
       "      <th>NumberOfProjections</th>\n",
       "      <th>RotationStep</th>\n",
       "      <th>Stacks</th>\n",
       "      <th>Wide</th>\n",
       "      <th>ThreeSixty</th>\n",
       "      <th>Exposure</th>\n",
       "      <th>Averaging</th>\n",
       "      <th>RingRemoval</th>\n",
       "      <th>Beamhardening</th>\n",
       "      <th>GrayValueMax</th>\n",
       "      <th>Scan time</th>\n",
       "      <th>Scan time total</th>\n",
       "    </tr>\n",
       "    <tr>\n",
       "      <th>Experiment</th>\n",
       "      <th></th>\n",
       "      <th></th>\n",
       "      <th></th>\n",
       "      <th></th>\n",
       "      <th></th>\n",
       "      <th></th>\n",
       "      <th></th>\n",
       "      <th></th>\n",
       "      <th></th>\n",
       "      <th></th>\n",
       "      <th></th>\n",
       "      <th></th>\n",
       "      <th></th>\n",
       "      <th></th>\n",
       "      <th></th>\n",
       "    </tr>\n",
       "  </thead>\n",
       "  <tbody>\n",
       "    <tr>\n",
       "      <th>Control</th>\n",
       "      <td>5.000027</td>\n",
       "      <td>100.0</td>\n",
       "      <td>100.0</td>\n",
       "      <td>1895.0</td>\n",
       "      <td>0.1</td>\n",
       "      <td>2.2</td>\n",
       "      <td>False</td>\n",
       "      <td>False</td>\n",
       "      <td>4796.4</td>\n",
       "      <td>3.0</td>\n",
       "      <td>14.6</td>\n",
       "      <td>0.0</td>\n",
       "      <td>0.102161</td>\n",
       "      <td>28884.0</td>\n",
       "      <td>62772.4</td>\n",
       "    </tr>\n",
       "    <tr>\n",
       "      <th>Notch</th>\n",
       "      <td>5.000027</td>\n",
       "      <td>100.0</td>\n",
       "      <td>100.0</td>\n",
       "      <td>1895.0</td>\n",
       "      <td>0.1</td>\n",
       "      <td>2.0</td>\n",
       "      <td>False</td>\n",
       "      <td>False</td>\n",
       "      <td>4796.4</td>\n",
       "      <td>3.0</td>\n",
       "      <td>31.8</td>\n",
       "      <td>0.0</td>\n",
       "      <td>0.190297</td>\n",
       "      <td>28826.8</td>\n",
       "      <td>57653.6</td>\n",
       "    </tr>\n",
       "  </tbody>\n",
       "</table>\n",
       "</div>"
      ],
      "text/plain": [
       "            Voxelsize  Voltage  Current  NumberOfProjections  RotationStep  \\\n",
       "Experiment                                                                   \n",
       "Control      5.000027    100.0    100.0               1895.0           0.1   \n",
       "Notch        5.000027    100.0    100.0               1895.0           0.1   \n",
       "\n",
       "            Stacks   Wide  ThreeSixty  Exposure  Averaging  RingRemoval  \\\n",
       "Experiment                                                                \n",
       "Control        2.2  False       False    4796.4        3.0         14.6   \n",
       "Notch          2.0  False       False    4796.4        3.0         31.8   \n",
       "\n",
       "            Beamhardening  GrayValueMax  Scan time  Scan time total  \n",
       "Experiment                                                           \n",
       "Control               0.0      0.102161    28884.0          62772.4  \n",
       "Notch                 0.0      0.190297    28826.8          57653.6  "
      ]
     },
     "execution_count": 71,
     "metadata": {},
     "output_type": "execute_result"
    }
   ],
   "source": [
    "Data.groupby('Experiment').mean()"
   ]
  },
  {
   "cell_type": "markdown",
   "metadata": {},
   "source": [
    "----"
   ]
  },
  {
   "cell_type": "markdown",
   "metadata": {},
   "source": [
    "My microct blurb from http://simp.ly/publish/NBhZhH"
   ]
  },
  {
   "cell_type": "code",
   "execution_count": 72,
   "metadata": {},
   "outputs": [
    {
     "name": "stdout",
     "output_type": "stream",
     "text": [
      "Based on the 10 log files in /home/habi/P/Documents/Semela-Liver/Data/Liver-Semela\n"
     ]
    }
   ],
   "source": [
    "print('Based on the %s log files in %s' % (len(Data), Root))"
   ]
  },
  {
   "cell_type": "code",
   "execution_count": 73,
   "metadata": {},
   "outputs": [
    {
     "data": {
      "text/plain": [
       "['ctrl1',\n",
       " 'ctrl2',\n",
       " 'ctrl4',\n",
       " 'ctrl5',\n",
       " 'notch1_1',\n",
       " 'notch1_2',\n",
       " 'notch1_3',\n",
       " 'notch1_4']"
      ]
     },
     "execution_count": 73,
     "metadata": {},
     "output_type": "execute_result"
    }
   ],
   "source": [
    "sorted(whichones)"
   ]
  },
  {
   "cell_type": "code",
   "execution_count": 74,
   "metadata": {},
   "outputs": [
    {
     "data": {
      "text/plain": [
       "['ctrl1', 'ctrl2', 'ctrl4', 'ctrl5', 'notch1_1', 'notch1_3', 'notch1_4']"
      ]
     },
     "execution_count": 74,
     "metadata": {},
     "output_type": "execute_result"
    }
   ],
   "source": [
    "sorted(Data.Sample.unique())"
   ]
  },
  {
   "cell_type": "markdown",
   "metadata": {},
   "source": [
    "TODO: The logfile of `notch1_2` is missing/empty, hence `len(Data.Sample.unique())` is 8 instead of 7!"
   ]
  },
  {
   "cell_type": "markdown",
   "metadata": {},
   "source": [
    "TODO: Also, the control software was updated between the scans and _rescans, use only one version number string"
   ]
  },
  {
   "cell_type": "code",
   "execution_count": 75,
   "metadata": {},
   "outputs": [
    {
     "name": "stdout",
     "output_type": "stream",
     "text": [
      "After $PREPARATION, the 7 samples were imaged on a Bruker SkyScan 1272 high-resolution microtomography machine (Control software version 1.1.9 or 1.1.19, Bruker microCT, Kontich, Belgium).\n"
     ]
    }
   ],
   "source": [
    "print('After $PREPARATION, the',\n",
    "      len(Data.Sample.unique()),\n",
    "      'samples were imaged on a Bruker',\n",
    "      \" OR \".join(str(value) for value in Data.Scanner.unique()),\n",
    "      'high-resolution microtomography machine (Control software version',\n",
    "      \" or \".join(str(value) for value in Data.ControlSoftware.unique()) + \n",
    "      ', Bruker microCT, Kontich, Belgium).')"
   ]
  },
  {
   "cell_type": "code",
   "execution_count": 76,
   "metadata": {},
   "outputs": [
    {
     "name": "stdout",
     "output_type": "stream",
     "text": [
      "The machine is equipped with a Hamamatsu L11871_20 X-ray source and a XIMEA xiRAY16 camera which converts the x-rays into visible light and records the projection images.\n"
     ]
    }
   ],
   "source": [
    "print('The machine is equipped with a',\n",
    "      \" OR \".join(str(value) for value in Data.Source.unique()),\n",
    "      'X-ray source and a',\n",
    "      \" OR \".join(str(value) for value in Data.Camera.unique()),\n",
    "      'camera which converts the x-rays into visible light and records the projection images.')"
   ]
  },
  {
   "cell_type": "code",
   "execution_count": 77,
   "metadata": {},
   "outputs": [
    {
     "name": "stdout",
     "output_type": "stream",
     "text": [
      "The X-ray source was set to a tube voltage of 100.0 kV and a tube current of 100.0 µA, the x-ray spectrum was filtered by Cu 0.11mm prior to incidence onto the sample.\n"
     ]
    }
   ],
   "source": [
    "print('The X-ray source was set to a tube voltage of', \n",
    "      \" OR \".join(str(value) for value in Data.Voltage.unique()),\n",
    "      'kV and a tube current of',\n",
    "      \" OR \".join(str(value) for value in Data.Current.unique()),\n",
    "      'µA, the x-ray spectrum was', end=' ')\n",
    "if Data.Filter.unique():\n",
    "    print('filtered by', \" OR \".join(str(value) for value in Data.Filter.unique()), end=' ')\n",
    "else:\n",
    "    print('not filtered', end=' ')\n",
    "print('prior to incidence onto the sample.')"
   ]
  },
  {
   "cell_type": "code",
   "execution_count": 78,
   "metadata": {},
   "outputs": [
    {
     "data": {
      "text/plain": [
       "array([False])"
      ]
     },
     "execution_count": 78,
     "metadata": {},
     "output_type": "execute_result"
    }
   ],
   "source": [
    "Data.ThreeSixty.unique()"
   ]
  },
  {
   "cell_type": "code",
   "execution_count": 79,
   "metadata": {},
   "outputs": [
    {
     "name": "stdout",
     "output_type": "stream",
     "text": [
      "For each sample, we recorded a set of 2 or 3 stacked scans overlapping the sample height, each stack was recorded with 1895 projections of 4904 x 3280 pixels at every 0.1° over a 180° sample rotation.\n"
     ]
    }
   ],
   "source": [
    "print('For each sample, we recorded a set of', end=' ')\n",
    "if Data.Filter.unique().tolist():   \n",
    "    print(\" or \".join(str(value) for value in Data.Stacks.unique()),\n",
    "          'stacked scans overlapping the sample height, each stack was recorded with', end=' ')\n",
    "print(\" or \".join(str(value) for value in Data.NumberOfProjections.unique()), 'projections of', end=' ')\n",
    "for cs in Data['CameraSize'].unique():\n",
    "    print(cs[0], end=' ')\n",
    "print('x', end=' ')\n",
    "for cs in Data['CameraSize'].unique():\n",
    "    print(cs[1], end=' ')\n",
    "print('pixels', end=' ')\n",
    "if Data.Wide.unique():\n",
    "    print('(' + \" or \".join(str(value) for value in Data.Wide.unique()), 'projections stitched laterally)', end=' ')\n",
    "print('at every',\n",
    "       str(\" or \".join(str(value) for value in Data.RotationStep.unique())) + '° over a ', end='')\n",
    "if Data.ThreeSixty.unique():\n",
    "     print('360°', end=' ')\n",
    "else:\n",
    "    print('180°', end=' ')\n",
    "print('sample rotation.')"
   ]
  },
  {
   "cell_type": "code",
   "execution_count": 80,
   "metadata": {},
   "outputs": [
    {
     "name": "stdout",
     "output_type": "stream",
     "text": [
      "On average, every single projection was exposed for 4796 ms, 3 projections were again averaged to greatly reduce image noise.\n"
     ]
    }
   ],
   "source": [
    "print('On average, every single projection was exposed for %s' % round(Data.Exposure.mean()),\n",
    "      'ms,',\n",
    "      \" or \".join(str(value) for value in Data.Averaging.unique()),\n",
    "      'projections were again averaged to greatly reduce image noise.')"
   ]
  },
  {
   "cell_type": "code",
   "execution_count": 81,
   "metadata": {},
   "outputs": [],
   "source": [
    "#print('This resulted in a scan time of approximately ', end='')\n",
    "#if duration(log)/3600 > 1:\n",
    "#    # Scan took hours\n",
    "#    print(timeformat(datetime.timedelta(seconds=duration(log)),\n",
    "#                     '{hours} hours and {minutes} minutes'), end=' ')\n",
    "#else:\n",
    "#    print(timeformat(datetime.timedelta(seconds=duration(log)),\n",
    "#                     '{minutes} minutes'), end=' ')\n",
    "#if not stacks(log) == 1:\n",
    "#    print('per stack and about',\n",
    "#          timeformat(stacks(log) * datetime.timedelta(seconds=duration(log)),\n",
    "#                     '{hours} hours and {minutes} minutes'), end=' ')\n",
    "#print('per sample', end='')\n",
    "#if stacks(log) == 1:\n",
    "#    print('.')\n",
    "#else:\n",
    "#    print(' (with', stacks(log), 'stacks).')"
   ]
  },
  {
   "cell_type": "code",
   "execution_count": 82,
   "metadata": {},
   "outputs": [
    {
     "data": {
      "text/plain": [
       "28855.4"
      ]
     },
     "execution_count": 82,
     "metadata": {},
     "output_type": "execute_result"
    }
   ],
   "source": [
    "Data['Scan time'].mean()"
   ]
  },
  {
   "cell_type": "code",
   "execution_count": 83,
   "metadata": {},
   "outputs": [],
   "source": [
    "#print('In total, we scanned', Data.Stacks.sum(), 'stacks.')\n",
    "#print('Each stack took approximately',\n",
    "#      Data['Scan time'].mean() // 60,\n",
    "#      'minutes (' + str(datetime.timedelta(seconds=Data['Scan time'].mean())) + ')')\n",
    "#print('In total, we thus scanned for about', \n",
    "#      timeformat(Data.Stacks.sum() *\n",
    "#                 datetime.timedelta(seconds=Data.Duration.mean()),\n",
    "#                 '{days} days, {hours} hours and {minutes} minutes.'))\n",
    "#hourlyrate = 125\n",
    "#print('At the MIC rate of %s CHF/h, this would have cost %s CHF' % (\n",
    "#    hourlyrate,\n",
    "#    int(round(Data.Stacks.sum() * Data.Duration.mean() / 60 / 60 * hourlyrate))))"
   ]
  },
  {
   "cell_type": "code",
   "execution_count": 84,
   "metadata": {},
   "outputs": [],
   "source": [
    "#print('In total, we scanned %s samples at %s stacks on average' % (len(Data.Scan.unique()), Data.Stacks.mean()))\n",
    "#print('Each stack took approximately',\n",
    "#      Data.Duration.mean() // 60,\n",
    "#      'minutes (' + str(datetime.timedelta(seconds=Data.Duration.mean())) + ')')\n",
    "#print('In total, we thus scanned for about', \n",
    "#      timeformat(len(Data.Scan.unique()) * Data.Stacks.mean() *\n",
    "#                 datetime.timedelta(seconds=Data.Duration.mean()),\n",
    "#                 '{days} days, {hours} hours and {minutes} minutes.'))\n",
    "#print('At the MIC rate, this would have cost',\n",
    "#      int(round(len(Data.Scan.unique()) * Data.Stacks.mean() * Data.Duration.mean() / 60 / 60 * 75)),\n",
    "#      'CHF.')"
   ]
  },
  {
   "cell_type": "code",
   "execution_count": 85,
   "metadata": {},
   "outputs": [
    {
     "data": {
      "text/plain": [
       "array(['1.7.0.4', '1.7.4.2', '1.7.3.0'], dtype=object)"
      ]
     },
     "execution_count": 85,
     "metadata": {},
     "output_type": "execute_result"
    }
   ],
   "source": [
    "Data.NRecon.unique()"
   ]
  },
  {
   "cell_type": "code",
   "execution_count": 86,
   "metadata": {},
   "outputs": [
    {
     "name": "stdout",
     "output_type": "stream",
     "text": [
      "The projection images were then subsequently reconstructed into a 3D stack of images with NRecon (Version ['1.7.0.4' '1.7.4.2' '1.7.3.0'] , Bruker microCT, Kontich Belgium) "
     ]
    }
   ],
   "source": [
    "print('The projection images were then subsequently reconstructed into a 3D stack',\n",
    "      'of images with NRecon (Version',\n",
    "      Data.NRecon.dropna().unique(),\n",
    "      ', Bruker microCT, Kontich Belgium)', end=' ')\n",
    "#if ringremoval(log):\n",
    "#    print('using a ring artifact correction of',\n",
    "#          ringremoval(log), end='')\n",
    "#if beamhardening(log):\n",
    "#    print(' and a beam hardening correction of',\n",
    "#          beamhardening(log),\n",
    "#          '%.')\n",
    "#else:\n",
    "#    print('.')\n",
    "   "
   ]
  },
  {
   "cell_type": "code",
   "execution_count": 87,
   "metadata": {},
   "outputs": [
    {
     "name": "stdout",
     "output_type": "stream",
     "text": [
      "The whole process resulted in datasets with an isometric voxel size of 5 µm.\n"
     ]
    }
   ],
   "source": [
    "print('The whole process resulted in datasets with an isometric voxel size of',\n",
    "      round(Data.Voxelsize.mean()),\n",
    "      'µm.') "
   ]
  },
  {
   "cell_type": "code",
   "execution_count": 88,
   "metadata": {},
   "outputs": [
    {
     "data": {
      "text/html": [
       "<div>\n",
       "<style scoped>\n",
       "    .dataframe tbody tr th:only-of-type {\n",
       "        vertical-align: middle;\n",
       "    }\n",
       "\n",
       "    .dataframe tbody tr th {\n",
       "        vertical-align: top;\n",
       "    }\n",
       "\n",
       "    .dataframe thead th {\n",
       "        text-align: right;\n",
       "    }\n",
       "</style>\n",
       "<table border=\"1\" class=\"dataframe\">\n",
       "  <thead>\n",
       "    <tr style=\"text-align: right;\">\n",
       "      <th></th>\n",
       "      <th>Sample</th>\n",
       "      <th>Scan</th>\n",
       "      <th>Subfolder</th>\n",
       "      <th>Beamhardening</th>\n",
       "      <th>RingRemoval</th>\n",
       "    </tr>\n",
       "  </thead>\n",
       "  <tbody>\n",
       "    <tr>\n",
       "      <th>0</th>\n",
       "      <td>ctrl1</td>\n",
       "      <td>highresolution</td>\n",
       "      <td>proj</td>\n",
       "      <td>0</td>\n",
       "      <td>20</td>\n",
       "    </tr>\n",
       "    <tr>\n",
       "      <th>16</th>\n",
       "      <td>ctrl1</td>\n",
       "      <td>highresolution</td>\n",
       "      <td>proj</td>\n",
       "      <td>0</td>\n",
       "      <td>7</td>\n",
       "    </tr>\n",
       "    <tr>\n",
       "      <th>28</th>\n",
       "      <td>ctrl2</td>\n",
       "      <td>highresolution</td>\n",
       "      <td>proj</td>\n",
       "      <td>0</td>\n",
       "      <td>13</td>\n",
       "    </tr>\n",
       "    <tr>\n",
       "      <th>36</th>\n",
       "      <td>ctrl4</td>\n",
       "      <td>highresolution</td>\n",
       "      <td>proj</td>\n",
       "      <td>0</td>\n",
       "      <td>20</td>\n",
       "    </tr>\n",
       "    <tr>\n",
       "      <th>61</th>\n",
       "      <td>ctrl5</td>\n",
       "      <td>highresolution</td>\n",
       "      <td>proj</td>\n",
       "      <td>0</td>\n",
       "      <td>13</td>\n",
       "    </tr>\n",
       "    <tr>\n",
       "      <th>69</th>\n",
       "      <td>notch1_1</td>\n",
       "      <td>highresolution</td>\n",
       "      <td>proj</td>\n",
       "      <td>0</td>\n",
       "      <td>20</td>\n",
       "    </tr>\n",
       "    <tr>\n",
       "      <th>87</th>\n",
       "      <td>notch1_1</td>\n",
       "      <td>highresolution</td>\n",
       "      <td>proj</td>\n",
       "      <td>0</td>\n",
       "      <td>13</td>\n",
       "    </tr>\n",
       "    <tr>\n",
       "      <th>103</th>\n",
       "      <td>notch1_3</td>\n",
       "      <td>highresolution</td>\n",
       "      <td>proj</td>\n",
       "      <td>0</td>\n",
       "      <td>13</td>\n",
       "    </tr>\n",
       "    <tr>\n",
       "      <th>107</th>\n",
       "      <td>notch1_4</td>\n",
       "      <td>highresolution</td>\n",
       "      <td>proj</td>\n",
       "      <td>0</td>\n",
       "      <td>100</td>\n",
       "    </tr>\n",
       "    <tr>\n",
       "      <th>131</th>\n",
       "      <td>notch1_4</td>\n",
       "      <td>highresolution</td>\n",
       "      <td>proj</td>\n",
       "      <td>0</td>\n",
       "      <td>13</td>\n",
       "    </tr>\n",
       "  </tbody>\n",
       "</table>\n",
       "</div>"
      ],
      "text/plain": [
       "       Sample            Scan Subfolder  Beamhardening  RingRemoval\n",
       "0       ctrl1  highresolution      proj              0           20\n",
       "16      ctrl1  highresolution      proj              0            7\n",
       "28      ctrl2  highresolution      proj              0           13\n",
       "36      ctrl4  highresolution      proj              0           20\n",
       "61      ctrl5  highresolution      proj              0           13\n",
       "69   notch1_1  highresolution      proj              0           20\n",
       "87   notch1_1  highresolution      proj              0           13\n",
       "103  notch1_3  highresolution      proj              0           13\n",
       "107  notch1_4  highresolution      proj              0          100\n",
       "131  notch1_4  highresolution      proj              0           13"
      ]
     },
     "execution_count": 88,
     "metadata": {},
     "output_type": "execute_result"
    }
   ],
   "source": [
    "Data[['Sample', 'Scan', 'Subfolder', 'Beamhardening', 'RingRemoval']]"
   ]
  },
  {
   "cell_type": "code",
   "execution_count": null,
   "metadata": {},
   "outputs": [],
   "source": []
  }
 ],
 "metadata": {
  "kernelspec": {
   "display_name": "Python 3",
   "language": "python",
   "name": "python3"
  },
  "language_info": {
   "codemirror_mode": {
    "name": "ipython",
    "version": 3
   },
   "file_extension": ".py",
   "mimetype": "text/x-python",
   "name": "python",
   "nbconvert_exporter": "python",
   "pygments_lexer": "ipython3",
   "version": "3.8.5"
  }
 },
 "nbformat": 4,
 "nbformat_minor": 4
}
