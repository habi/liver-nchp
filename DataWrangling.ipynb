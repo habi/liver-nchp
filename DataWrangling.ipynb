{
 "cells": [
  {
   "cell_type": "markdown",
   "metadata": {},
   "source": [
    "# Handle and check the 'data' of the all the scans we did\n",
    "Wrestle with the data, check parameters and generate some helping files"
   ]
  },
  {
   "cell_type": "code",
   "execution_count": 1,
   "metadata": {},
   "outputs": [],
   "source": [
    "import platform\n",
    "import os\n",
    "import glob\n",
    "import pandas\n",
    "import imageio\n",
    "import numpy\n",
    "import matplotlib.pyplot as plt\n",
    "from matplotlib_scalebar.scalebar import ScaleBar\n",
    "import seaborn\n",
    "import dask\n",
    "import dask_image.imread\n",
    "from dask.distributed import Client, LocalCluster\n",
    "from numcodecs import Blosc\n",
    "import skimage\n",
    "from tqdm import notebook"
   ]
  },
  {
   "cell_type": "code",
   "execution_count": 2,
   "metadata": {},
   "outputs": [
    {
     "name": "stdout",
     "output_type": "stream",
     "text": [
      "Dask temporarry files go to /var/folders/nc/fh66knbx263cxr7t7t1qx4j80000gn/T/tmp\n"
     ]
    }
   ],
   "source": [
    "# Set dask temporary folder\n",
    "# Do this before creating a client: https://stackoverflow.com/a/62804525/323100\n",
    "import tempfile\n",
    "if 'Linux' in platform.system():\n",
    "    tmp = os.path.join(os.sep, 'media', 'habi', 'Fast_SSD')\n",
    "elif 'Darwin' in platform.system():\n",
    "    tmp = tempfile.gettempdir()\n",
    "else:\n",
    "    if 'anaklin' in platform.node():\n",
    "        tmp = os.path.join('F:\\\\')\n",
    "    else:\n",
    "        tmp = os.path.join('D:\\\\')\n",
    "dask.config.set({'temporary_directory': os.path.join(tmp, 'tmp')})\n",
    "print('Dask temporarry files go to %s' % dask.config.get('temporary_directory'))"
   ]
  },
  {
   "cell_type": "code",
   "execution_count": 3,
   "metadata": {},
   "outputs": [],
   "source": [
    "# Start cluster and client now, after setting tempdir\n",
    "cluster = LocalCluster(n_workers=8)\n",
    "client = Client(cluster)"
   ]
  },
  {
   "cell_type": "code",
   "execution_count": 4,
   "metadata": {},
   "outputs": [
    {
     "name": "stdout",
     "output_type": "stream",
     "text": [
      "You can seee what DASK is doing at \"http://localhost:8787/status\"\n"
     ]
    }
   ],
   "source": [
    "print('You can seee what DASK is doing at \"http://localhost:%s/status\"' % client.scheduler_info()['services']['dashboard'])"
   ]
  },
  {
   "cell_type": "code",
   "execution_count": 5,
   "metadata": {},
   "outputs": [],
   "source": [
    "# # Ignore warnings in the notebook\n",
    "# import warnings\n",
    "# warnings.filterwarnings(\"ignore\")"
   ]
  },
  {
   "cell_type": "code",
   "execution_count": 6,
   "metadata": {},
   "outputs": [],
   "source": [
    "# Set up figure defaults\n",
    "plt.rc('image', cmap='gray', interpolation='nearest')  # Display all images in b&w and with 'nearest' interpolation\n",
    "plt.rcParams['figure.figsize'] = (16, 9)  # Size up figures a bit\n",
    "plt.rcParams['figure.dpi'] = 200"
   ]
  },
  {
   "cell_type": "code",
   "execution_count": 7,
   "metadata": {},
   "outputs": [
    {
     "name": "stderr",
     "output_type": "stream",
     "text": [
      "/Users/habi/miniconda3/lib/python3.7/site-packages/ipykernel_launcher.py:2: MatplotlibDeprecationWarning: \n",
      "The validate_legend_loc function was deprecated in Matplotlib 3.3 and will be removed two minor releases later.\n",
      "  \n"
     ]
    }
   ],
   "source": [
    "# Setup scale bar defaults\n",
    "plt.rcParams['scalebar.location'] = 'lower right'\n",
    "plt.rcParams['scalebar.frameon'] = False\n",
    "plt.rcParams['scalebar.color'] = 'white'"
   ]
  },
  {
   "cell_type": "code",
   "execution_count": 8,
   "metadata": {},
   "outputs": [],
   "source": [
    "# Display all plots identically\n",
    "lines = 3\n",
    "# And then do something like\n",
    "# plt.subplot(lines, numpy.ceil(len(Data) / float(lines)), c + 1)"
   ]
  },
  {
   "cell_type": "code",
   "execution_count": 9,
   "metadata": {},
   "outputs": [
    {
     "name": "stdout",
     "output_type": "stream",
     "text": [
      "We are loading all the data from /Users/habi/Dev/liver-nchp/Data/Liver-Semela\n"
     ]
    }
   ],
   "source": [
    "# Different locations if running either on Linux or Windows\n",
    "Archive = False # Load the data directly from the iee-research_storage drive\n",
    "# to speed things up significantly\n",
    "if Archive:\n",
    "    if 'Linux' in platform.system():\n",
    "        BasePath = os.path.join(os.sep, 'home', 'habi', 'research-storage-uct', 'Archiv_Tape')\n",
    "    elif 'Windows' in platform.system():\n",
    "        BasePath = os.path.join('R:\\\\Archiv_Tape')\n",
    "else:\n",
    "    BasePath = os.path.join(os.getcwd(), 'Data')\n",
    "Root = os.path.join(BasePath, 'Liver-Semela')\n",
    "print('We are loading all the data from %s' % Root)"
   ]
  },
  {
   "cell_type": "code",
   "execution_count": 10,
   "metadata": {},
   "outputs": [],
   "source": [
    "def get_pixelsize(logfile):\n",
    "    \"\"\"Get the pixel size from the scan log file\"\"\"\n",
    "    pixelsize=None    \n",
    "    with open(logfile, 'r') as f:\n",
    "        for line in f:\n",
    "            if 'Image Pixel' in line and 'Scaled' not in line:\n",
    "                pixelsize = float(line.split('=')[1])\n",
    "    return(pixelsize)"
   ]
  },
  {
   "cell_type": "code",
   "execution_count": 11,
   "metadata": {},
   "outputs": [],
   "source": [
    "def get_operator(logfile):\n",
    "    \"\"\"Get the operator who scanned the samples\"\"\"\n",
    "    operator = None\n",
    "    with open(logfile, 'r') as f:\n",
    "        for line in f:\n",
    "            if 'User Name' in line:\n",
    "                operator = line.split('=')[1].strip()\n",
    "    return(operator)"
   ]
  },
  {
   "cell_type": "code",
   "execution_count": 12,
   "metadata": {},
   "outputs": [],
   "source": [
    "def get_experiment(i):\n",
    "    '''Categorize  into 'Notch' or 'Control' '''\n",
    "    if 'notch' in i:\n",
    "        return 'Notch'\n",
    "    if 'ctrl' in i:\n",
    "        return 'Control'"
   ]
  },
  {
   "cell_type": "code",
   "execution_count": 13,
   "metadata": {},
   "outputs": [],
   "source": [
    "def get_vein(i):\n",
    "    if 'portal' in i:\n",
    "        return 'Portal'\n",
    "    elif 'cava' in i:\n",
    "        return 'Cava'\n",
    "    else:\n",
    "        return None"
   ]
  },
  {
   "cell_type": "code",
   "execution_count": 14,
   "metadata": {},
   "outputs": [],
   "source": [
    "def get_git_hash():\n",
    "    '''\n",
    "    Get the current git hash from the repository.\n",
    "    Based on http://stackoverflow.com/a/949391/323100 and\n",
    "    http://stackoverflow.com/a/18283905/323100\n",
    "    '''\n",
    "    from subprocess import Popen, PIPE\n",
    "    import os\n",
    "    gitprocess = Popen(['git',\n",
    "                        '--git-dir',\n",
    "                        os.path.join(os.getcwd(), '.git'),\n",
    "                        'rev-parse',\n",
    "                        '--short',\n",
    "                        '--verify',\n",
    "                        'HEAD'],\n",
    "                       stdout=PIPE)\n",
    "    (output, _) = gitprocess.communicate()\n",
    "    return output.strip().decode(\"utf-8\")"
   ]
  },
  {
   "cell_type": "code",
   "execution_count": 15,
   "metadata": {},
   "outputs": [],
   "source": [
    "# # Make directory for output\n",
    "# OutPutDir = os.path.join(os.getcwd(), 'Output', get_git_hash())\n",
    "# print('We are saving all the output to %s' % OutPutDir)\n",
    "# os.makedirs(OutPutDir, exist_ok=True)"
   ]
  },
  {
   "cell_type": "markdown",
   "metadata": {},
   "source": [
    "Mario Novkovic told us that \n",
    "> We have used the ds17 livers in the paper, specifically ctrl4 and notch1_2 in the first batch (training dataset), while the second batch consisted of 3 datasets from each mouse type: ctrl1, ctrl2, ctrl5 and notch1_1, notch1_3, notch1_4.\n",
    "\n",
    "So let's only use *those* folders for the remainder of the notebook.\n",
    "We copied all the relevant data from the archive to the `Data`-subfolder here with\n",
    "````bash\n",
    "rsync --verbose --recursive --times --update --omit-dir-times --include=\"*/\" --include=\"*.?og\" --include=\"*.c?v\" --include=\"*.?oi\" --include=\"*.?at\" --include=\"*_spr*.bmp\" --include=\"*.txt\" --include=\"*.md\" --include=\"*.mp\" --include=\"*.sb\" --include=\"*.info\" --include=\"*.?nc\" --include=\"*.bkp\" --exclude=\"*\" ~/research-storage-uct/Archiv_Tape/Liver-Semela/ /home/habi/P/Documents/Semela-Liver/Data/\n",
    "\n",
    "````\n",
    "(which is our standard `rsync` blurb for putting stuff *to* the archive, but without the `*.tif` files, so we get back all the relevant things :).\n",
    "\n",
    "We then delete all non-`ds17*`-folders with\n",
    "````bash\n",
    "find . -path './ds*' -prune -o -name '*' -delete -depth\n",
    "````\n",
    "(which does issue a warning because of `-depth`, but leaves us with only the `ds17_*`-folders :) )"
   ]
  },
  {
   "cell_type": "code",
   "execution_count": 16,
   "metadata": {},
   "outputs": [],
   "source": [
    "# These are the folders that were used according to Mario.\n",
    "whichones = ['ctrl4', 'notch1_2', 'ctrl1', 'ctrl2', 'ctrl5', 'notch1_1', 'notch1_3', 'notch1_4']"
   ]
  },
  {
   "cell_type": "markdown",
   "metadata": {},
   "source": [
    "Now that we have *all* the necessary data (and some more), let's get to work!"
   ]
  },
  {
   "cell_type": "code",
   "execution_count": 17,
   "metadata": {},
   "outputs": [],
   "source": [
    "# Make us a dataframe for saving all that we need\n",
    "Data = pandas.DataFrame()"
   ]
  },
  {
   "cell_type": "code",
   "execution_count": 18,
   "metadata": {},
   "outputs": [],
   "source": [
    "# Get *all* log files\n",
    "Data['LogFile'] = [f for f in sorted(glob.glob(os.path.join(Root, '**', '*.log'), recursive=True))]"
   ]
  },
  {
   "cell_type": "code",
   "execution_count": 19,
   "metadata": {},
   "outputs": [],
   "source": [
    "# Get all folders and generate sample, scan and experiment name\n",
    "Data['Folder'] = [os.path.dirname(f) for f in Data['LogFile']]\n",
    "Data['SampleName'] = [f[len(Root):].split(os.path.sep)[1].replace('ds17_','') for f in Data['Folder']]\n",
    "Data['Sample'] = [sn.replace('_rescan','').replace('_portal','').replace('_cava','') for sn in Data['SampleName']]\n",
    "Data['Scan'] = [f[len(Root):].split(os.path.sep)[2] for f in Data['Folder']]\n",
    "Data['Subfolder'] = [f[len(Root):].split(os.path.sep)[3] for f in Data['Folder']]\n",
    "Data['Experiment'] = [get_experiment(s) for s in Data['Sample']]\n",
    "Data['Vein'] = [get_vein(s) for s in Data['SampleName']]"
   ]
  },
  {
   "cell_type": "code",
   "execution_count": 20,
   "metadata": {},
   "outputs": [
    {
     "name": "stdout",
     "output_type": "stream",
     "text": [
      "LogFile       /Users/habi/Dev/liver-nchp/Data/Liver-Semela/d...\n",
      "Folder        /Users/habi/Dev/liver-nchp/Data/Liver-Semela/d...\n",
      "SampleName                                         ctrl3_portal\n",
      "Sample                                                    ctrl3\n",
      "Scan                                                   overview\n",
      "Subfolder                                                  proj\n",
      "Experiment                                              Control\n",
      "Vein                                                     Portal\n",
      "Name: 33, dtype: object\n",
      "--------------------------------------------------------------------------------\n",
      "/Users/habi/Dev/liver-nchp/Data/Liver-Semela/ds17_ctrl3_portal/overview/proj/ds17_ctrl3_portal.log\n",
      "/Users/habi/Dev/liver-nchp/Data/Liver-Semela/ds17_ctrl3_portal/overview/proj\n",
      "ctrl3_portal\n",
      "ctrl3\n",
      "overview\n",
      "proj\n",
      "Control\n",
      "Portal\n"
     ]
    }
   ],
   "source": [
    "# Check what we did there...\n",
    "print(Data.iloc[33])\n",
    "print(80*'-')\n",
    "for i in Data.iloc[33]:\n",
    "    print(i)"
   ]
  },
  {
   "cell_type": "code",
   "execution_count": 21,
   "metadata": {},
   "outputs": [],
   "source": [
    "# Read the voxelsize from each logfile\n",
    "Data['Voxelsize'] = [get_pixelsize(log) for log in Data['LogFile']]"
   ]
  },
  {
   "cell_type": "code",
   "execution_count": 22,
   "metadata": {},
   "outputs": [],
   "source": [
    "# One log file is empty, drop it\n",
    "# We cannot read a voxel size out of it...\n",
    "Data.drop(Data[Data['Voxelsize'].isna()].index, inplace=True)\n",
    "# We asked Mario et al. if they have a good copy of it."
   ]
  },
  {
   "cell_type": "code",
   "execution_count": 23,
   "metadata": {},
   "outputs": [
    {
     "name": "stdout",
     "output_type": "stream",
     "text": [
      "The scans were performed by ['haberthu']\n"
     ]
    }
   ],
   "source": [
    "Data['Operator'] = [get_operator(log) for log in Data['LogFile']]\n",
    "print('The scans were performed by %s' % Data.Operator.unique())"
   ]
  },
  {
   "cell_type": "code",
   "execution_count": 24,
   "metadata": {},
   "outputs": [
    {
     "data": {
      "text/html": [
       "<div>\n",
       "<style scoped>\n",
       "    .dataframe tbody tr th:only-of-type {\n",
       "        vertical-align: middle;\n",
       "    }\n",
       "\n",
       "    .dataframe tbody tr th {\n",
       "        vertical-align: top;\n",
       "    }\n",
       "\n",
       "    .dataframe thead th {\n",
       "        text-align: right;\n",
       "    }\n",
       "</style>\n",
       "<table border=\"1\" class=\"dataframe\">\n",
       "  <thead>\n",
       "    <tr style=\"text-align: right;\">\n",
       "      <th></th>\n",
       "      <th>Folder</th>\n",
       "      <th>SampleName</th>\n",
       "      <th>Sample</th>\n",
       "      <th>Vein</th>\n",
       "      <th>Scan</th>\n",
       "      <th>Subfolder</th>\n",
       "    </tr>\n",
       "  </thead>\n",
       "  <tbody>\n",
       "    <tr>\n",
       "      <th>0</th>\n",
       "      <td>/Users/habi/Dev/liver-nchp/Data/Liver-Semela/d...</td>\n",
       "      <td>ctrl1_portal</td>\n",
       "      <td>ctrl1</td>\n",
       "      <td>Portal</td>\n",
       "      <td>highresolution</td>\n",
       "      <td>proj</td>\n",
       "    </tr>\n",
       "    <tr>\n",
       "      <th>1</th>\n",
       "      <td>/Users/habi/Dev/liver-nchp/Data/Liver-Semela/d...</td>\n",
       "      <td>ctrl1_portal</td>\n",
       "      <td>ctrl1</td>\n",
       "      <td>Portal</td>\n",
       "      <td>highresolution</td>\n",
       "      <td>proj</td>\n",
       "    </tr>\n",
       "    <tr>\n",
       "      <th>2</th>\n",
       "      <td>/Users/habi/Dev/liver-nchp/Data/Liver-Semela/d...</td>\n",
       "      <td>ctrl1_portal</td>\n",
       "      <td>ctrl1</td>\n",
       "      <td>Portal</td>\n",
       "      <td>highresolution</td>\n",
       "      <td>proj</td>\n",
       "    </tr>\n",
       "    <tr>\n",
       "      <th>3</th>\n",
       "      <td>/Users/habi/Dev/liver-nchp/Data/Liver-Semela/d...</td>\n",
       "      <td>ctrl1_portal</td>\n",
       "      <td>ctrl1</td>\n",
       "      <td>Portal</td>\n",
       "      <td>highresolution</td>\n",
       "      <td>rec</td>\n",
       "    </tr>\n",
       "    <tr>\n",
       "      <th>4</th>\n",
       "      <td>/Users/habi/Dev/liver-nchp/Data/Liver-Semela/d...</td>\n",
       "      <td>ctrl1_portal</td>\n",
       "      <td>ctrl1</td>\n",
       "      <td>Portal</td>\n",
       "      <td>overview</td>\n",
       "      <td>proj</td>\n",
       "    </tr>\n",
       "    <tr>\n",
       "      <th>...</th>\n",
       "      <td>...</td>\n",
       "      <td>...</td>\n",
       "      <td>...</td>\n",
       "      <td>...</td>\n",
       "      <td>...</td>\n",
       "      <td>...</td>\n",
       "    </tr>\n",
       "    <tr>\n",
       "      <th>131</th>\n",
       "      <td>/Users/habi/Dev/liver-nchp/Data/Liver-Semela/d...</td>\n",
       "      <td>notch1_4</td>\n",
       "      <td>notch1_4</td>\n",
       "      <td>None</td>\n",
       "      <td>rll_repeat_3um</td>\n",
       "      <td>rec</td>\n",
       "    </tr>\n",
       "    <tr>\n",
       "      <th>132</th>\n",
       "      <td>/Users/habi/Dev/liver-nchp/Data/Liver-Semela/d...</td>\n",
       "      <td>notch1_4_rescan</td>\n",
       "      <td>notch1_4</td>\n",
       "      <td>None</td>\n",
       "      <td>highresolution</td>\n",
       "      <td>proj</td>\n",
       "    </tr>\n",
       "    <tr>\n",
       "      <th>133</th>\n",
       "      <td>/Users/habi/Dev/liver-nchp/Data/Liver-Semela/d...</td>\n",
       "      <td>notch1_4_rescan</td>\n",
       "      <td>notch1_4</td>\n",
       "      <td>None</td>\n",
       "      <td>highresolution</td>\n",
       "      <td>proj</td>\n",
       "    </tr>\n",
       "    <tr>\n",
       "      <th>134</th>\n",
       "      <td>/Users/habi/Dev/liver-nchp/Data/Liver-Semela/d...</td>\n",
       "      <td>notch1_4_rescan</td>\n",
       "      <td>notch1_4</td>\n",
       "      <td>None</td>\n",
       "      <td>highresolution</td>\n",
       "      <td>proj</td>\n",
       "    </tr>\n",
       "    <tr>\n",
       "      <th>135</th>\n",
       "      <td>/Users/habi/Dev/liver-nchp/Data/Liver-Semela/d...</td>\n",
       "      <td>notch1_4_rescan</td>\n",
       "      <td>notch1_4</td>\n",
       "      <td>None</td>\n",
       "      <td>highresolution</td>\n",
       "      <td>rec</td>\n",
       "    </tr>\n",
       "  </tbody>\n",
       "</table>\n",
       "<p>135 rows × 6 columns</p>\n",
       "</div>"
      ],
      "text/plain": [
       "                                                Folder       SampleName  \\\n",
       "0    /Users/habi/Dev/liver-nchp/Data/Liver-Semela/d...     ctrl1_portal   \n",
       "1    /Users/habi/Dev/liver-nchp/Data/Liver-Semela/d...     ctrl1_portal   \n",
       "2    /Users/habi/Dev/liver-nchp/Data/Liver-Semela/d...     ctrl1_portal   \n",
       "3    /Users/habi/Dev/liver-nchp/Data/Liver-Semela/d...     ctrl1_portal   \n",
       "4    /Users/habi/Dev/liver-nchp/Data/Liver-Semela/d...     ctrl1_portal   \n",
       "..                                                 ...              ...   \n",
       "131  /Users/habi/Dev/liver-nchp/Data/Liver-Semela/d...         notch1_4   \n",
       "132  /Users/habi/Dev/liver-nchp/Data/Liver-Semela/d...  notch1_4_rescan   \n",
       "133  /Users/habi/Dev/liver-nchp/Data/Liver-Semela/d...  notch1_4_rescan   \n",
       "134  /Users/habi/Dev/liver-nchp/Data/Liver-Semela/d...  notch1_4_rescan   \n",
       "135  /Users/habi/Dev/liver-nchp/Data/Liver-Semela/d...  notch1_4_rescan   \n",
       "\n",
       "       Sample    Vein            Scan Subfolder  \n",
       "0       ctrl1  Portal  highresolution      proj  \n",
       "1       ctrl1  Portal  highresolution      proj  \n",
       "2       ctrl1  Portal  highresolution      proj  \n",
       "3       ctrl1  Portal  highresolution       rec  \n",
       "4       ctrl1  Portal        overview      proj  \n",
       "..        ...     ...             ...       ...  \n",
       "131  notch1_4    None  rll_repeat_3um       rec  \n",
       "132  notch1_4    None  highresolution      proj  \n",
       "133  notch1_4    None  highresolution      proj  \n",
       "134  notch1_4    None  highresolution      proj  \n",
       "135  notch1_4    None  highresolution       rec  \n",
       "\n",
       "[135 rows x 6 columns]"
      ]
     },
     "execution_count": 24,
     "metadata": {},
     "output_type": "execute_result"
    }
   ],
   "source": [
    "Data[['Folder', 'SampleName', 'Sample', 'Vein', 'Scan', 'Subfolder']]"
   ]
  },
  {
   "cell_type": "code",
   "execution_count": 25,
   "metadata": {},
   "outputs": [
    {
     "name": "stdout",
     "output_type": "stream",
     "text": [
      "ctrl1\n",
      "ctrl2\n",
      "ctrl3\n",
      "ctrl4\n",
      "ctrl5\n",
      "ctrl6\n",
      "notch1_1\n",
      "notch1_2\n",
      "notch1_3\n",
      "notch1_4\n"
     ]
    }
   ],
   "source": [
    "# What samples do we have?\n",
    "for i in Data.Sample.unique():\n",
    "    print(i)"
   ]
  },
  {
   "cell_type": "code",
   "execution_count": 26,
   "metadata": {},
   "outputs": [
    {
     "data": {
      "text/plain": [
       "['ctrl1',\n",
       " 'ctrl2',\n",
       " 'ctrl4',\n",
       " 'ctrl5',\n",
       " 'notch1_1',\n",
       " 'notch1_2',\n",
       " 'notch1_3',\n",
       " 'notch1_4']"
      ]
     },
     "execution_count": 26,
     "metadata": {},
     "output_type": "execute_result"
    }
   ],
   "source": [
    "# What Mario et al looked at\n",
    "sorted(whichones)"
   ]
  },
  {
   "cell_type": "code",
   "execution_count": 27,
   "metadata": {},
   "outputs": [
    {
     "data": {
      "text/plain": [
       "{'ctrl3', 'ctrl6'}"
      ]
     },
     "execution_count": 27,
     "metadata": {},
     "output_type": "execute_result"
    }
   ],
   "source": [
    "# Which ones are 'surplus'?\n",
    "set(Data.Sample.unique())-set(whichones)"
   ]
  },
  {
   "cell_type": "code",
   "execution_count": 28,
   "metadata": {},
   "outputs": [
    {
     "name": "stdout",
     "output_type": "stream",
     "text": [
      "--------------- For sample ctrl1 we have the data below ---------------\n",
      "   Sample    Vein           SampleName            Scan  Voxelsize\n",
      "0   ctrl1  Portal         ctrl1_portal  highresolution   5.000040\n",
      "1   ctrl1  Portal         ctrl1_portal  highresolution   5.000040\n",
      "2   ctrl1  Portal         ctrl1_portal  highresolution   5.000040\n",
      "3   ctrl1  Portal         ctrl1_portal  highresolution   5.000040\n",
      "4   ctrl1  Portal         ctrl1_portal        overview  21.754494\n",
      "5   ctrl1  Portal         ctrl1_portal        overview  21.101977\n",
      "6   ctrl1  Portal         ctrl1_portal        overview  21.754494\n",
      "8   ctrl1  Portal         ctrl1_portal             rll   3.000006\n",
      "9   ctrl1  Portal         ctrl1_portal             rll   3.000006\n",
      "10  ctrl1  Portal         ctrl1_portal             rll   3.000006\n",
      "11  ctrl1  Portal         ctrl1_portal             rll   3.000006\n",
      "12  ctrl1  Portal         ctrl1_portal         rll_5um   5.000024\n",
      "13  ctrl1  Portal         ctrl1_portal         rll_5um   5.000024\n",
      "14  ctrl1  Portal         ctrl1_portal         rll_5um   5.000024\n",
      "15  ctrl1  Portal         ctrl1_portal         rll_5um   5.000024\n",
      "16  ctrl1  Portal  ctrl1_portal_rescan  highresolution   5.000018\n",
      "17  ctrl1  Portal  ctrl1_portal_rescan  highresolution   5.000018\n",
      "18  ctrl1  Portal  ctrl1_portal_rescan  highresolution   5.000018\n",
      "19  ctrl1  Portal  ctrl1_portal_rescan  highresolution   5.000018\n",
      "--------------------------------------------------------------------------------\n",
      "--------------- For sample ctrl2 we have the data below ---------------\n",
      "   Sample    Vein           SampleName            Scan  Voxelsize\n",
      "20  ctrl2  Portal         ctrl2_portal        overview  21.754494\n",
      "21  ctrl2  Portal         ctrl2_portal        overview  21.754494\n",
      "22  ctrl2  Portal         ctrl2_portal        overview  21.754494\n",
      "23  ctrl2  Portal         ctrl2_portal        overview  21.754494\n",
      "24  ctrl2  Portal         ctrl2_portal         rll_5um   5.000336\n",
      "25  ctrl2  Portal         ctrl2_portal         rll_5um   5.000336\n",
      "26  ctrl2  Portal         ctrl2_portal         rll_5um   5.000336\n",
      "27  ctrl2  Portal         ctrl2_portal         rll_5um   5.000336\n",
      "28  ctrl2  Portal  ctrl2_portal_rescan  highresolution   5.000018\n",
      "29  ctrl2  Portal  ctrl2_portal_rescan  highresolution   5.000018\n",
      "30  ctrl2  Portal  ctrl2_portal_rescan  highresolution   5.000018\n",
      "31  ctrl2  Portal  ctrl2_portal_rescan  highresolution   5.000018\n",
      "32  ctrl2  Portal  ctrl2_portal_rescan  highresolution   5.000018\n",
      "--------------------------------------------------------------------------------\n",
      "--------------- For sample ctrl4 we have the data below ---------------\n",
      "   Sample  Vein  SampleName            Scan  Voxelsize\n",
      "37  ctrl4  Cava  ctrl4_cava  highresolution   5.000040\n",
      "38  ctrl4  Cava  ctrl4_cava  highresolution   5.000040\n",
      "39  ctrl4  Cava  ctrl4_cava  highresolution   5.000040\n",
      "40  ctrl4  Cava  ctrl4_cava  highresolution   5.000040\n",
      "41  ctrl4  Cava  ctrl4_cava        overview  21.754494\n",
      "42  ctrl4  Cava  ctrl4_cava        overview  21.754494\n",
      "43  ctrl4  Cava  ctrl4_cava        overview  21.754494\n",
      "44  ctrl4  Cava  ctrl4_cava        overview  21.754494\n",
      "--------------------------------------------------------------------------------\n",
      "--------------- For sample ctrl5 we have the data below ---------------\n",
      "   Sample  Vein         SampleName            Scan  Voxelsize\n",
      "45  ctrl5  Cava         ctrl5_cava  highresolution  19.910000\n",
      "46  ctrl5  Cava         ctrl5_cava  highresolution  19.910000\n",
      "47  ctrl5  Cava         ctrl5_cava  highresolution  19.910000\n",
      "48  ctrl5  Cava         ctrl5_cava  highresolution  19.910000\n",
      "49  ctrl5  Cava         ctrl5_cava  highresolution  19.909896\n",
      "50  ctrl5  Cava         ctrl5_cava  highresolution  19.909896\n",
      "51  ctrl5  Cava         ctrl5_cava  highresolution  19.909896\n",
      "52  ctrl5  Cava         ctrl5_cava  highresolution  19.910000\n",
      "53  ctrl5  Cava         ctrl5_cava  highresolution  19.909896\n",
      "54  ctrl5  Cava         ctrl5_cava        overview  21.799899\n",
      "55  ctrl5  Cava         ctrl5_cava        overview  21.799899\n",
      "56  ctrl5  Cava         ctrl5_cava        overview  21.799899\n",
      "57  ctrl5  Cava         ctrl5_cava        overview  21.799899\n",
      "58  ctrl5  Cava         ctrl5_cava         rll_5um   5.000336\n",
      "59  ctrl5  Cava         ctrl5_cava         rll_5um   5.000336\n",
      "60  ctrl5  Cava         ctrl5_cava         rll_5um   5.000336\n",
      "61  ctrl5  Cava         ctrl5_cava         rll_5um   5.000336\n",
      "62  ctrl5  Cava  ctrl5_cava_rescan  highresolution   5.000018\n",
      "63  ctrl5  Cava  ctrl5_cava_rescan  highresolution   5.000018\n",
      "64  ctrl5  Cava  ctrl5_cava_rescan  highresolution   5.000018\n",
      "65  ctrl5  Cava  ctrl5_cava_rescan  highresolution   5.000018\n",
      "--------------------------------------------------------------------------------\n",
      "--------------- For sample notch1_1 we have the data below ---------------\n",
      "      Sample  Vein       SampleName            Scan  Voxelsize\n",
      "70  notch1_1  None         notch1_1  highresolution   5.000040\n",
      "71  notch1_1  None         notch1_1  highresolution   5.000040\n",
      "72  notch1_1  None         notch1_1  highresolution   5.000040\n",
      "73  notch1_1  None         notch1_1  highresolution   5.000040\n",
      "74  notch1_1  None         notch1_1  highresolution   5.000040\n",
      "75  notch1_1  None         notch1_1        overview  15.000120\n",
      "76  notch1_1  None         notch1_1        overview  15.000120\n",
      "77  notch1_1  None         notch1_1        overview  15.000120\n",
      "78  notch1_1  None         notch1_1        overview  15.000120\n",
      "79  notch1_1  None         notch1_1        overview  15.000120\n",
      "80  notch1_1  None         notch1_1             rll   3.000006\n",
      "81  notch1_1  None         notch1_1             rll   3.000006\n",
      "82  notch1_1  None         notch1_1             rll   3.000006\n",
      "83  notch1_1  None         notch1_1             rll   3.000006\n",
      "84  notch1_1  None         notch1_1         rll_5um   5.001531\n",
      "85  notch1_1  None         notch1_1         rll_5um   5.001531\n",
      "86  notch1_1  None         notch1_1         rll_5um   5.001531\n",
      "87  notch1_1  None         notch1_1         rll_5um   5.001531\n",
      "88  notch1_1  None  notch1_1_rescan  highresolution   5.000018\n",
      "89  notch1_1  None  notch1_1_rescan  highresolution   5.000018\n",
      "90  notch1_1  None  notch1_1_rescan  highresolution   5.000018\n",
      "91  notch1_1  None  notch1_1_rescan  highresolution   5.000018\n",
      "--------------------------------------------------------------------------------\n",
      "--------------- For sample notch1_2 we have the data below ---------------\n",
      "      Sample  Vein SampleName      Scan  Voxelsize\n",
      "92  notch1_2  None   notch1_2  overview    5.00004\n",
      "93  notch1_2  None   notch1_2  overview    5.00004\n",
      "94  notch1_2  None   notch1_2  overview    5.00004\n",
      "95  notch1_2  None   notch1_2  overview    5.00004\n",
      "--------------------------------------------------------------------------------\n",
      "--------------- For sample notch1_3 we have the data below ---------------\n",
      "       Sample  Vein       SampleName            Scan  Voxelsize\n",
      "96   notch1_3  None         notch1_3        overview  15.000120\n",
      "97   notch1_3  None         notch1_3        overview  15.000120\n",
      "98   notch1_3  None         notch1_3        overview  15.000120\n",
      "99   notch1_3  None         notch1_3        overview  15.000120\n",
      "100  notch1_3  None         notch1_3         rll_5um   5.000336\n",
      "101  notch1_3  None         notch1_3         rll_5um   5.000336\n",
      "102  notch1_3  None         notch1_3         rll_5um   5.000336\n",
      "103  notch1_3  None         notch1_3         rll_5um   5.000336\n",
      "104  notch1_3  None  notch1_3_rescan  highresolution   5.000018\n",
      "105  notch1_3  None  notch1_3_rescan  highresolution   5.000018\n",
      "106  notch1_3  None  notch1_3_rescan  highresolution   5.000018\n",
      "107  notch1_3  None  notch1_3_rescan  highresolution   5.000018\n",
      "--------------------------------------------------------------------------------\n",
      "--------------- For sample notch1_4 we have the data below ---------------\n",
      "       Sample  Vein       SampleName            Scan  Voxelsize\n",
      "108  notch1_4  None         notch1_4  highresolution   5.000040\n",
      "109  notch1_4  None         notch1_4  highresolution   5.000040\n",
      "110  notch1_4  None         notch1_4  highresolution   5.000040\n",
      "111  notch1_4  None         notch1_4  highresolution   5.000040\n",
      "112  notch1_4  None         notch1_4        overview  15.000120\n",
      "113  notch1_4  None         notch1_4        overview  15.000120\n",
      "114  notch1_4  None         notch1_4        overview  15.000120\n",
      "115  notch1_4  None         notch1_4        overview  15.000120\n",
      "116  notch1_4  None         notch1_4        overview  15.000120\n",
      "117  notch1_4  None         notch1_4         rll_3um   3.000006\n",
      "118  notch1_4  None         notch1_4         rll_3um   3.000006\n",
      "119  notch1_4  None         notch1_4         rll_3um   3.000006\n",
      "120  notch1_4  None         notch1_4         rll_3um   3.000006\n",
      "121  notch1_4  None         notch1_4         rll_5um   5.001393\n",
      "122  notch1_4  None         notch1_4         rll_5um   5.001393\n",
      "123  notch1_4  None         notch1_4         rll_5um   5.001393\n",
      "124  notch1_4  None         notch1_4         rll_5um   5.001393\n",
      "125  notch1_4  None         notch1_4         rll_7um   6.999999\n",
      "126  notch1_4  None         notch1_4         rll_7um   6.999999\n",
      "127  notch1_4  None         notch1_4  rll_repeat_3um   3.000003\n",
      "128  notch1_4  None         notch1_4  rll_repeat_3um   3.000003\n",
      "129  notch1_4  None         notch1_4  rll_repeat_3um   3.000003\n",
      "130  notch1_4  None         notch1_4  rll_repeat_3um   3.000003\n",
      "131  notch1_4  None         notch1_4  rll_repeat_3um   3.000003\n",
      "132  notch1_4  None  notch1_4_rescan  highresolution   5.000018\n",
      "133  notch1_4  None  notch1_4_rescan  highresolution   5.000018\n",
      "134  notch1_4  None  notch1_4_rescan  highresolution   5.000018\n",
      "135  notch1_4  None  notch1_4_rescan  highresolution   5.000018\n",
      "--------------------------------------------------------------------------------\n"
     ]
    }
   ],
   "source": [
    "# Collate what Mario analyzed with what we scanned\n",
    "for wanted in sorted(whichones):\n",
    "    print(15 * '-', 'For sample %s we have the data below' % wanted, 15 * '-', )\n",
    "    print(Data[Data['Sample'].str.contains(wanted)][['Sample', 'Vein', 'SampleName', 'Scan', 'Voxelsize']])\n",
    "    print(80*'-')"
   ]
  },
  {
   "cell_type": "markdown",
   "metadata": {},
   "source": [
    "So, from just looking throught the data based on the names that we have from Mario, it seems to me that they *only* looked at the 5 um scans.\n",
    "Let's `.drop()` all the other scans."
   ]
  },
  {
   "cell_type": "code",
   "execution_count": 29,
   "metadata": {},
   "outputs": [
    {
     "data": {
      "text/plain": [
       "LogFile       /Users/habi/Dev/liver-nchp/Data/Liver-Semela/d...\n",
       "Folder        /Users/habi/Dev/liver-nchp/Data/Liver-Semela/d...\n",
       "SampleName                                         ctrl1_portal\n",
       "Sample                                                    ctrl1\n",
       "Scan                                             highresolution\n",
       "Subfolder                                                  proj\n",
       "Experiment                                              Control\n",
       "Vein                                                     Portal\n",
       "Voxelsize                                               5.00004\n",
       "Operator                                               haberthu\n",
       "Name: 2, dtype: object"
      ]
     },
     "execution_count": 29,
     "metadata": {},
     "output_type": "execute_result"
    }
   ],
   "source": [
    "Data.iloc[2]"
   ]
  },
  {
   "cell_type": "code",
   "execution_count": 30,
   "metadata": {},
   "outputs": [],
   "source": [
    "# Get rid of all non-5um scans\n",
    "Data.drop(Data[Data['Voxelsize'] > 5.5].index, inplace=True)\n",
    "Data.drop(Data[Data['Voxelsize'] < 4.5].index, inplace=True)"
   ]
  },
  {
   "cell_type": "code",
   "execution_count": 31,
   "metadata": {},
   "outputs": [],
   "source": [
    "# Drop all 'rec' folders\n",
    "Data.drop(Data[Data['Subfolder'] == 'rec'].index, inplace=True)"
   ]
  },
  {
   "cell_type": "markdown",
   "metadata": {},
   "source": [
    "So it seems that Mario et al. simply used the `highresolution` scans (either the scan or the `_rescan`).\n",
    "Now, let's get to work with extracting the data we need..."
   ]
  },
  {
   "cell_type": "code",
   "execution_count": 32,
   "metadata": {},
   "outputs": [],
   "source": [
    "import re\n",
    "def scanner(logfile, verbose=False):\n",
    "    hardwareversion = []\n",
    "    with open(logfile, 'r') as f:\n",
    "        for line in f:\n",
    "            if 'Scanner' in line:\n",
    "                if verbose:\n",
    "                    print(line)\n",
    "                # Sometimes it's SkyScan, sometimes Skyscan, so we have to regex it :)\n",
    "                machine = re.split('Sky.can', line)[1].strip()\n",
    "            if 'Hardware' in line:\n",
    "                if verbose:\n",
    "                    print(line)\n",
    "                hardwareversion = line.split('=')[1].strip()\n",
    "    if hardwareversion:\n",
    "        return('SkyScan %s (Version %s)' % (machine, hardwareversion))\n",
    "    else:\n",
    "        return('SkyScan ' + machine)    "
   ]
  },
  {
   "cell_type": "code",
   "execution_count": 33,
   "metadata": {},
   "outputs": [],
   "source": [
    "def controlsoftware(logfile, verbose=False):\n",
    "    with open(logfile, 'r') as f:\n",
    "        for line in f:\n",
    "            if 'Software Ver' in line:\n",
    "                if verbose:\n",
    "                    print(line)\n",
    "                version = line.split('=')[1].strip()\n",
    "    return(version)"
   ]
  },
  {
   "cell_type": "code",
   "execution_count": 34,
   "metadata": {},
   "outputs": [],
   "source": [
    "# Get parameters which we'll need for the paragraph\n",
    "Data['Scanner'] = [scanner(log) for log in Data['LogFile']]\n",
    "Data['ControlSoftware'] = [controlsoftware(log) for log in Data['LogFile']]"
   ]
  },
  {
   "cell_type": "code",
   "execution_count": 35,
   "metadata": {},
   "outputs": [],
   "source": [
    "def source(logfile, verbose=False):\n",
    "    with open(logfile, 'r') as f:\n",
    "        for line in f:\n",
    "            if 'Source Ty' in line:\n",
    "                if verbose:\n",
    "                    print(line)\n",
    "                source = line.split('=')[1].strip()\n",
    "                if 'HAMAMA' in source:\n",
    "                    # We split the string at '_L' to separate HAMAMATSU_L118...\n",
    "                    # Afterwards we properly capitalize HAMAMATSU and\n",
    "                    # join the strings back with ' L' to get the beginning of the reference back\n",
    "                    source = ' L'.join([s.capitalize() for s in source.split('_L')])\n",
    "    return(source)"
   ]
  },
  {
   "cell_type": "code",
   "execution_count": 36,
   "metadata": {},
   "outputs": [],
   "source": [
    "def camera(logfile, verbose=False):\n",
    "    with open(logfile, 'r') as f:\n",
    "        for line in f:\n",
    "            if 'Camera T' in line or 'Camera=' in line:\n",
    "                if verbose:\n",
    "                    print(line)\n",
    "                cam = line.split('=')[1].strip().strip(' camera')\n",
    "    return(cam)"
   ]
  },
  {
   "cell_type": "code",
   "execution_count": 37,
   "metadata": {},
   "outputs": [],
   "source": [
    "Data['Source'] = [source(log) for log in Data['LogFile']]\n",
    "Data['Camera'] = [camera(log) for log in Data['LogFile']]"
   ]
  },
  {
   "cell_type": "code",
   "execution_count": 38,
   "metadata": {},
   "outputs": [],
   "source": [
    "def voltage(logfile, verbose=False):\n",
    "    with open(logfile, 'r') as f:\n",
    "        for line in f:\n",
    "            if 'Voltage' in line:\n",
    "                if verbose:\n",
    "                    print(line)\n",
    "                V = float(line.split('=')[1])\n",
    "    return(V)"
   ]
  },
  {
   "cell_type": "code",
   "execution_count": 39,
   "metadata": {},
   "outputs": [],
   "source": [
    "def current(logfile, verbose=False):\n",
    "    with open(logfile, 'r') as f:\n",
    "        for line in f:\n",
    "            if 'Source Current' in line:\n",
    "                if verbose:\n",
    "                    print(line)\n",
    "                A = float(line.split('=')[1])\n",
    "    return(A)"
   ]
  },
  {
   "cell_type": "code",
   "execution_count": 40,
   "metadata": {},
   "outputs": [],
   "source": [
    "def whichfilter(logfile, verbose=False):\n",
    "    with open(logfile, 'r') as f:\n",
    "        for line in f:\n",
    "            if 'Filter=' in line:\n",
    "                if verbose:\n",
    "                    print(line)\n",
    "                fltr = line.split('=')[1].strip().replace('  ', ' ')\n",
    "                if fltr=='No Filter':\n",
    "                    fltr=False\n",
    "    return(fltr)"
   ]
  },
  {
   "cell_type": "code",
   "execution_count": 41,
   "metadata": {},
   "outputs": [],
   "source": [
    "Data['Voltage'] = [voltage(log) for log in Data['LogFile']]\n",
    "Data['Current'] = [current(log) for log in Data['LogFile']]\n",
    "Data['Filter'] = [whichfilter(log) for log in Data['LogFile']]"
   ]
  },
  {
   "cell_type": "code",
   "execution_count": 42,
   "metadata": {},
   "outputs": [],
   "source": [
    "def camerasize(logfile, verbose=False):\n",
    "    with open(logfile, 'r') as f:\n",
    "        for line in f:\n",
    "            if 'Columns' in line:\n",
    "                if verbose:\n",
    "                    print(line)\n",
    "                columns = int(line.split('=')[1])\n",
    "            if 'Rows' in line:\n",
    "                if verbose:\n",
    "                    print(line)\n",
    "                rows = int(line.split('=')[1])\n",
    "    return(columns, rows)"
   ]
  },
  {
   "cell_type": "code",
   "execution_count": 43,
   "metadata": {},
   "outputs": [],
   "source": [
    "def numproj(logfile, verbose=False):\n",
    "    with open(logfile, 'r') as f:\n",
    "        for line in f:\n",
    "            if 'f Files' in line:\n",
    "                if verbose:\n",
    "                    print(line)\n",
    "                numproj = int(line.split('=')[1])\n",
    "    return(numproj)"
   ]
  },
  {
   "cell_type": "code",
   "execution_count": 44,
   "metadata": {},
   "outputs": [],
   "source": [
    "def rotationstep(logfile, verbose=False):\n",
    "    with open(logfile, 'r') as f:\n",
    "        for line in f:\n",
    "            if 'Rotation Step' in line:\n",
    "                if verbose:\n",
    "                    print(line)\n",
    "                rotstep = float(line.split('=')[1])\n",
    "    return(rotstep)"
   ]
  },
  {
   "cell_type": "code",
   "execution_count": 45,
   "metadata": {},
   "outputs": [],
   "source": [
    "Data['CameraSize'] = [camerasize(log) for log in Data['LogFile']]\n",
    "Data['NumberOfProjections'] = [numproj(log) for log in Data['LogFile']]\n",
    "Data['RotationStep'] = [rotationstep(log) for log in Data['LogFile']]"
   ]
  },
  {
   "cell_type": "code",
   "execution_count": 46,
   "metadata": {},
   "outputs": [],
   "source": [
    "def stacks(logfile, verbose=False):\n",
    "    with open(logfile, 'r') as f:\n",
    "        # If only one stack, then there's nothing in the log file\n",
    "        numstacks = 0\n",
    "        for line in f:\n",
    "            if 'of conn' in line:\n",
    "                if verbose:\n",
    "                    print(line)\n",
    "                # The 'Sub-scan scan length' is listed in the log file\n",
    "                # We simply select the last one, and add 1, since Bruker also starts to count at zero\n",
    "                numstacks = int(line.split('=')[1])\n",
    "    return(numstacks)"
   ]
  },
  {
   "cell_type": "code",
   "execution_count": 47,
   "metadata": {},
   "outputs": [],
   "source": [
    "def overlapscan(logfile, verbose=False):\n",
    "    with open(logfile, 'r') as f:\n",
    "        for line in f:\n",
    "            if 'Horizontal Off' in line:\n",
    "                if verbose:\n",
    "                    print(line)\n",
    "                wide = int(line.split('=')[1])\n",
    "                #if wide == 1:\n",
    "                #    wide=False\n",
    "    return(wide)"
   ]
  },
  {
   "cell_type": "code",
   "execution_count": 48,
   "metadata": {},
   "outputs": [],
   "source": [
    "def threesixtyscan(logfile, verbose=False):\n",
    "    threesixty = False\n",
    "    with open(logfile, 'r') as f:\n",
    "        for line in f:\n",
    "            if '0 Rotation' in line:\n",
    "                if verbose:\n",
    "                    print(line)\n",
    "                threesixty = line.split('=')[1].strip()\n",
    "                if threesixty == 'YES':\n",
    "                    threesixty = True\n",
    "                else:\n",
    "                    threesixty = False\n",
    "    return(threesixty)"
   ]
  },
  {
   "cell_type": "code",
   "execution_count": 49,
   "metadata": {},
   "outputs": [],
   "source": [
    "Data['Stacks'] = [stacks(log) for log in Data['LogFile']]\n",
    "Data['Wide'] = [overlapscan(log) for log in Data.LogFile]\n",
    "Data['ThreeSixty'] = [threesixtyscan(log) for log in Data['LogFile']]"
   ]
  },
  {
   "cell_type": "code",
   "execution_count": 50,
   "metadata": {},
   "outputs": [],
   "source": [
    "def exposure(logfile, verbose=False):\n",
    "    with open(logfile, 'r') as f:\n",
    "        for line in f:\n",
    "            if 'Exposure' in line:\n",
    "                if verbose:\n",
    "                    print(line)\n",
    "                exp = int(line.split('=')[1])\n",
    "    return(exp)"
   ]
  },
  {
   "cell_type": "code",
   "execution_count": 51,
   "metadata": {},
   "outputs": [],
   "source": [
    "def averaging(logfile, verbose=False):\n",
    "    with open(logfile, 'r') as f:\n",
    "        for line in f:\n",
    "            if 'Avera' in line:\n",
    "                if verbose:\n",
    "                    print(line)\n",
    "                details = line.split('=')[1]\n",
    "                if 'ON' in details:\n",
    "                    # https://stackoverflow.com/a/4894156/323100\n",
    "                    avg = int(details[details.find(\"(\")+1:details.find(\")\")])\n",
    "                else:\n",
    "                    avg=False\n",
    "    return(avg)"
   ]
  },
  {
   "cell_type": "code",
   "execution_count": 52,
   "metadata": {},
   "outputs": [],
   "source": [
    "Data['Exposure'] = [exposure(log) for log in Data['LogFile']]\n",
    "Data['Averaging'] = [averaging(log) for log in Data['LogFile']]"
   ]
  },
  {
   "cell_type": "code",
   "execution_count": 53,
   "metadata": {},
   "outputs": [],
   "source": [
    "def ringremoval(logfile, verbose=False):\n",
    "    ring = None\n",
    "    with open(logfile, 'r') as f:\n",
    "        for line in f:\n",
    "            if 'Ring' in line:\n",
    "                if verbose:\n",
    "                    print(line)\n",
    "                ring = int(line.split('=')[1].strip())\n",
    "    return(ring)"
   ]
  },
  {
   "cell_type": "code",
   "execution_count": 54,
   "metadata": {},
   "outputs": [],
   "source": [
    "def beamhardening(logfile, verbose=False):\n",
    "    bh = None\n",
    "    with open(logfile, 'r') as f:\n",
    "        for line in f:\n",
    "            if 'ardeni' in line:\n",
    "                if verbose:\n",
    "                    print(line)\n",
    "                bh = int(line.split('=')[1].strip())\n",
    "    return(bh)"
   ]
  },
  {
   "cell_type": "code",
   "execution_count": 55,
   "metadata": {},
   "outputs": [],
   "source": [
    "def get_reconstruction_grayvalue(logfile):\n",
    "    grayvalue = None\n",
    "    \"\"\"How did we map the brightness of the reconstructions?\"\"\"\n",
    "    with open(logfile, 'r') as f:\n",
    "        for line in f:\n",
    "            if 'Maximum for' in line:\n",
    "                grayvalue = float(line.split('=')[1])\n",
    "    return(grayvalue)"
   ]
  },
  {
   "cell_type": "code",
   "execution_count": 56,
   "metadata": {},
   "outputs": [],
   "source": [
    "Data['RingRemoval'] = [ringremoval(log) for log in Data['LogFile']]\n",
    "Data['Beamhardening'] = [beamhardening(log) for log in Data['LogFile']]\n",
    "Data['GrayValueMax'] = [get_reconstruction_grayvalue(log) for log in Data['LogFile']]"
   ]
  },
  {
   "cell_type": "code",
   "execution_count": 57,
   "metadata": {},
   "outputs": [],
   "source": [
    "import datetime\n",
    "def duration(logfile, verbose=False):\n",
    "    '''Returns scantime in *seconds*'''\n",
    "    with open(logfile, 'r') as f:\n",
    "        for line in f:\n",
    "            if 'Scan duration' in line:\n",
    "                if verbose:\n",
    "                    print(line)\n",
    "                duration = line.split('=')[1].strip()\n",
    "    # Sometimes it's '00:24:26', sometimes '0h:52m:53s' :-/\n",
    "    if 'h' in duration:\n",
    "        scantime = datetime.datetime.strptime(duration, '%Hh:%Mm:%Ss')\n",
    "    else:\n",
    "        scantime = datetime.datetime.strptime(duration, '%H:%M:%S')\n",
    "    return((scantime-datetime.datetime(1900,1,1)).total_seconds())"
   ]
  },
  {
   "cell_type": "code",
   "execution_count": 58,
   "metadata": {},
   "outputs": [],
   "source": [
    "Data['Scan time'] = [duration(log) for log in Data['LogFile']]\n",
    "Data['Scan time total'] = [ st * stk  for st, stk in zip(Data['Scan time'], Data['Stacks'])]"
   ]
  },
  {
   "cell_type": "code",
   "execution_count": 59,
   "metadata": {},
   "outputs": [],
   "source": [
    "def nreconversion(logfile, verbose=False):\n",
    "    Program = None\n",
    "    Version = None\n",
    "    with open(logfile, 'r') as f:\n",
    "        for line in f:\n",
    "            if 'Reconstruction Program' in line:\n",
    "                if verbose:\n",
    "                    print(line)\n",
    "                Program = line.split('=')[1].strip()\n",
    "            if 'Program Version' in line:\n",
    "                if verbose:\n",
    "                    print(line)\n",
    "                Version = line.split('sion:')[1].strip()\n",
    "    return(Program, Version)"
   ]
  },
  {
   "cell_type": "code",
   "execution_count": 60,
   "metadata": {},
   "outputs": [],
   "source": [
    "# Only get the version string, not which software\n",
    "Data['NRecon'] = [nreconversion(log)[1] for log in Data['LogFile']]"
   ]
  },
  {
   "cell_type": "code",
   "execution_count": 61,
   "metadata": {},
   "outputs": [
    {
     "name": "stdout",
     "output_type": "stream",
     "text": [
      "We scanned all datasets with equal voxel size, namely 5.0 um.\n"
     ]
    }
   ],
   "source": [
    "# Check voxel sizes (*rounded* to two after-comma values)\n",
    "# If different, spit out which values\n",
    "roundto = 2\n",
    "if len(Data['Voxelsize'].round(roundto).unique()) > 1:\n",
    "    print('We scanned all datasets with %s different voxel sizes' % len(Data['Voxelsize'].round(roundto).unique()))\n",
    "    for vs in sorted(Data['Voxelsize'].round(roundto).unique()):\n",
    "        print('-', vs, 'um for ', end='')\n",
    "        for c, row in Data.iterrows():\n",
    "            if float(vs) == round(row['Voxelsize'], roundto):\n",
    "                print(os.path.join(row['Sample'], row['Scan']), end=', ')\n",
    "        print('')\n",
    "else:\n",
    "    print('We scanned all datasets with equal voxel size, namely %s um.' % float(Data['Voxelsize'].round(roundto).unique()))"
   ]
  },
  {
   "cell_type": "code",
   "execution_count": 63,
   "metadata": {},
   "outputs": [],
   "source": [
    "## Get an overview over the total scan time\n",
    "## Nice output based on https://stackoverflow.com/a/8907407/323100\n",
    "#total_seconds = int(Data['Scan time total'].sum().total_seconds())\n",
    "#hours, remainder = divmod(total_seconds,60*60)\n",
    "#minutes, seconds = divmod(remainder,60)\n",
    "#print('In total, we scanned for %s hours and %s minutes)' % (hours, minutes))\n",
    "#for machine in Data['Scanner'].unique():\n",
    "#    total_seconds = int(Data[Data['Scanner'] == machine]['Scan time total'].sum().total_seconds())\n",
    "#    hours, remainder = divmod(total_seconds,60*60)\n",
    "#    minutes, seconds = divmod(remainder,60)\n",
    "#    print('\\t - Of these, we scanned %s hours and %s minutes on the %s,'\n",
    "#          'for %s scans' % (hours,\n",
    "#                            minutes,\n",
    "#                            machine,\n",
    "#                            len(Data[Data['Scanner'] == machine])))"
   ]
  },
  {
   "cell_type": "code",
   "execution_count": 64,
   "metadata": {},
   "outputs": [],
   "source": [
    "Data.to_excel('Details.xlsx')"
   ]
  },
  {
   "cell_type": "code",
   "execution_count": 65,
   "metadata": {},
   "outputs": [],
   "source": [
    "Data.to_excel(os.path.join(Root,'Details.xlsx'))"
   ]
  },
  {
   "cell_type": "markdown",
   "metadata": {},
   "source": [
    "Now we have all the data, but some of it is hidden in the `proj` and some of it in the `rec` log files..."
   ]
  },
  {
   "cell_type": "code",
   "execution_count": 66,
   "metadata": {},
   "outputs": [
    {
     "data": {
      "text/html": [
       "<div>\n",
       "<style scoped>\n",
       "    .dataframe tbody tr th:only-of-type {\n",
       "        vertical-align: middle;\n",
       "    }\n",
       "\n",
       "    .dataframe tbody tr th {\n",
       "        vertical-align: top;\n",
       "    }\n",
       "\n",
       "    .dataframe thead th {\n",
       "        text-align: right;\n",
       "    }\n",
       "</style>\n",
       "<table border=\"1\" class=\"dataframe\">\n",
       "  <thead>\n",
       "    <tr style=\"text-align: right;\">\n",
       "      <th></th>\n",
       "      <th>Voxelsize</th>\n",
       "      <th>Voltage</th>\n",
       "      <th>Current</th>\n",
       "      <th>NumberOfProjections</th>\n",
       "      <th>RotationStep</th>\n",
       "      <th>Stacks</th>\n",
       "      <th>Wide</th>\n",
       "      <th>ThreeSixty</th>\n",
       "      <th>Exposure</th>\n",
       "      <th>Averaging</th>\n",
       "      <th>RingRemoval</th>\n",
       "      <th>Beamhardening</th>\n",
       "      <th>GrayValueMax</th>\n",
       "      <th>Scan time</th>\n",
       "      <th>Scan time total</th>\n",
       "    </tr>\n",
       "    <tr>\n",
       "      <th>Sample</th>\n",
       "      <th></th>\n",
       "      <th></th>\n",
       "      <th></th>\n",
       "      <th></th>\n",
       "      <th></th>\n",
       "      <th></th>\n",
       "      <th></th>\n",
       "      <th></th>\n",
       "      <th></th>\n",
       "      <th></th>\n",
       "      <th></th>\n",
       "      <th></th>\n",
       "      <th></th>\n",
       "      <th></th>\n",
       "      <th></th>\n",
       "    </tr>\n",
       "  </thead>\n",
       "  <tbody>\n",
       "    <tr>\n",
       "      <th>ctrl1</th>\n",
       "      <td>5.000027</td>\n",
       "      <td>100.0</td>\n",
       "      <td>100.0</td>\n",
       "      <td>1584.000</td>\n",
       "      <td>0.133333</td>\n",
       "      <td>2.000</td>\n",
       "      <td>1.000000</td>\n",
       "      <td>False</td>\n",
       "      <td>4571.333333</td>\n",
       "      <td>3.0</td>\n",
       "      <td>15.666667</td>\n",
       "      <td>0.0</td>\n",
       "      <td>0.099287</td>\n",
       "      <td>24111.111111</td>\n",
       "      <td>48222.222222</td>\n",
       "    </tr>\n",
       "    <tr>\n",
       "      <th>ctrl2</th>\n",
       "      <td>5.000137</td>\n",
       "      <td>100.0</td>\n",
       "      <td>100.0</td>\n",
       "      <td>1549.625</td>\n",
       "      <td>0.137500</td>\n",
       "      <td>2.625</td>\n",
       "      <td>1.375000</td>\n",
       "      <td>False</td>\n",
       "      <td>6074.750000</td>\n",
       "      <td>3.0</td>\n",
       "      <td>11.000000</td>\n",
       "      <td>10.0</td>\n",
       "      <td>0.054703</td>\n",
       "      <td>36089.500000</td>\n",
       "      <td>87817.750000</td>\n",
       "    </tr>\n",
       "    <tr>\n",
       "      <th>ctrl4</th>\n",
       "      <td>5.000040</td>\n",
       "      <td>100.0</td>\n",
       "      <td>100.0</td>\n",
       "      <td>1895.000</td>\n",
       "      <td>0.100000</td>\n",
       "      <td>2.000</td>\n",
       "      <td>1.000000</td>\n",
       "      <td>False</td>\n",
       "      <td>5391.000000</td>\n",
       "      <td>3.0</td>\n",
       "      <td>20.000000</td>\n",
       "      <td>0.0</td>\n",
       "      <td>0.150000</td>\n",
       "      <td>34672.000000</td>\n",
       "      <td>69344.000000</td>\n",
       "    </tr>\n",
       "    <tr>\n",
       "      <th>ctrl5</th>\n",
       "      <td>5.000177</td>\n",
       "      <td>100.0</td>\n",
       "      <td>100.0</td>\n",
       "      <td>1434.500</td>\n",
       "      <td>0.150000</td>\n",
       "      <td>2.000</td>\n",
       "      <td>1.500000</td>\n",
       "      <td>False</td>\n",
       "      <td>6633.000000</td>\n",
       "      <td>3.0</td>\n",
       "      <td>10.000000</td>\n",
       "      <td>15.0</td>\n",
       "      <td>0.113790</td>\n",
       "      <td>39771.500000</td>\n",
       "      <td>79543.000000</td>\n",
       "    </tr>\n",
       "    <tr>\n",
       "      <th>notch1_1</th>\n",
       "      <td>5.000530</td>\n",
       "      <td>100.0</td>\n",
       "      <td>100.0</td>\n",
       "      <td>1588.000</td>\n",
       "      <td>0.133333</td>\n",
       "      <td>2.000</td>\n",
       "      <td>1.333333</td>\n",
       "      <td>False</td>\n",
       "      <td>6219.000000</td>\n",
       "      <td>3.0</td>\n",
       "      <td>13.333333</td>\n",
       "      <td>10.0</td>\n",
       "      <td>0.245299</td>\n",
       "      <td>38063.888889</td>\n",
       "      <td>76127.777778</td>\n",
       "    </tr>\n",
       "    <tr>\n",
       "      <th>notch1_2</th>\n",
       "      <td>5.000040</td>\n",
       "      <td>100.0</td>\n",
       "      <td>100.0</td>\n",
       "      <td>1895.000</td>\n",
       "      <td>0.100000</td>\n",
       "      <td>2.000</td>\n",
       "      <td>1.000000</td>\n",
       "      <td>False</td>\n",
       "      <td>5391.000000</td>\n",
       "      <td>3.0</td>\n",
       "      <td>20.000000</td>\n",
       "      <td>0.0</td>\n",
       "      <td>0.115803</td>\n",
       "      <td>34715.666667</td>\n",
       "      <td>69431.333333</td>\n",
       "    </tr>\n",
       "    <tr>\n",
       "      <th>notch1_3</th>\n",
       "      <td>5.000177</td>\n",
       "      <td>100.0</td>\n",
       "      <td>100.0</td>\n",
       "      <td>1434.500</td>\n",
       "      <td>0.150000</td>\n",
       "      <td>2.000</td>\n",
       "      <td>1.500000</td>\n",
       "      <td>False</td>\n",
       "      <td>6633.000000</td>\n",
       "      <td>3.0</td>\n",
       "      <td>10.000000</td>\n",
       "      <td>15.0</td>\n",
       "      <td>0.080670</td>\n",
       "      <td>39798.333333</td>\n",
       "      <td>79596.666667</td>\n",
       "    </tr>\n",
       "    <tr>\n",
       "      <th>notch1_4</th>\n",
       "      <td>5.000484</td>\n",
       "      <td>100.0</td>\n",
       "      <td>100.0</td>\n",
       "      <td>1588.000</td>\n",
       "      <td>0.133333</td>\n",
       "      <td>2.000</td>\n",
       "      <td>1.333333</td>\n",
       "      <td>False</td>\n",
       "      <td>6219.000000</td>\n",
       "      <td>3.0</td>\n",
       "      <td>39.000000</td>\n",
       "      <td>10.0</td>\n",
       "      <td>0.142691</td>\n",
       "      <td>38013.555556</td>\n",
       "      <td>76027.111111</td>\n",
       "    </tr>\n",
       "  </tbody>\n",
       "</table>\n",
       "</div>"
      ],
      "text/plain": [
       "          Voxelsize  Voltage  Current  NumberOfProjections  RotationStep  \\\n",
       "Sample                                                                     \n",
       "ctrl1      5.000027    100.0    100.0             1584.000      0.133333   \n",
       "ctrl2      5.000137    100.0    100.0             1549.625      0.137500   \n",
       "ctrl4      5.000040    100.0    100.0             1895.000      0.100000   \n",
       "ctrl5      5.000177    100.0    100.0             1434.500      0.150000   \n",
       "notch1_1   5.000530    100.0    100.0             1588.000      0.133333   \n",
       "notch1_2   5.000040    100.0    100.0             1895.000      0.100000   \n",
       "notch1_3   5.000177    100.0    100.0             1434.500      0.150000   \n",
       "notch1_4   5.000484    100.0    100.0             1588.000      0.133333   \n",
       "\n",
       "          Stacks      Wide  ThreeSixty     Exposure  Averaging  RingRemoval  \\\n",
       "Sample                                                                        \n",
       "ctrl1      2.000  1.000000       False  4571.333333        3.0    15.666667   \n",
       "ctrl2      2.625  1.375000       False  6074.750000        3.0    11.000000   \n",
       "ctrl4      2.000  1.000000       False  5391.000000        3.0    20.000000   \n",
       "ctrl5      2.000  1.500000       False  6633.000000        3.0    10.000000   \n",
       "notch1_1   2.000  1.333333       False  6219.000000        3.0    13.333333   \n",
       "notch1_2   2.000  1.000000       False  5391.000000        3.0    20.000000   \n",
       "notch1_3   2.000  1.500000       False  6633.000000        3.0    10.000000   \n",
       "notch1_4   2.000  1.333333       False  6219.000000        3.0    39.000000   \n",
       "\n",
       "          Beamhardening  GrayValueMax     Scan time  Scan time total  \n",
       "Sample                                                                \n",
       "ctrl1               0.0      0.099287  24111.111111     48222.222222  \n",
       "ctrl2              10.0      0.054703  36089.500000     87817.750000  \n",
       "ctrl4               0.0      0.150000  34672.000000     69344.000000  \n",
       "ctrl5              15.0      0.113790  39771.500000     79543.000000  \n",
       "notch1_1           10.0      0.245299  38063.888889     76127.777778  \n",
       "notch1_2            0.0      0.115803  34715.666667     69431.333333  \n",
       "notch1_3           15.0      0.080670  39798.333333     79596.666667  \n",
       "notch1_4           10.0      0.142691  38013.555556     76027.111111  "
      ]
     },
     "execution_count": 66,
     "metadata": {},
     "output_type": "execute_result"
    }
   ],
   "source": [
    "Data.groupby('Sample').mean()"
   ]
  },
  {
   "cell_type": "code",
   "execution_count": 67,
   "metadata": {},
   "outputs": [
    {
     "data": {
      "text/html": [
       "<div>\n",
       "<style scoped>\n",
       "    .dataframe tbody tr th:only-of-type {\n",
       "        vertical-align: middle;\n",
       "    }\n",
       "\n",
       "    .dataframe tbody tr th {\n",
       "        vertical-align: top;\n",
       "    }\n",
       "\n",
       "    .dataframe thead th {\n",
       "        text-align: right;\n",
       "    }\n",
       "</style>\n",
       "<table border=\"1\" class=\"dataframe\">\n",
       "  <thead>\n",
       "    <tr style=\"text-align: right;\">\n",
       "      <th></th>\n",
       "      <th>Voxelsize</th>\n",
       "      <th>Voltage</th>\n",
       "      <th>Current</th>\n",
       "      <th>NumberOfProjections</th>\n",
       "      <th>RotationStep</th>\n",
       "      <th>Stacks</th>\n",
       "      <th>Wide</th>\n",
       "      <th>ThreeSixty</th>\n",
       "      <th>Exposure</th>\n",
       "      <th>Averaging</th>\n",
       "      <th>RingRemoval</th>\n",
       "      <th>Beamhardening</th>\n",
       "      <th>GrayValueMax</th>\n",
       "      <th>Scan time</th>\n",
       "      <th>Scan time total</th>\n",
       "    </tr>\n",
       "    <tr>\n",
       "      <th>Experiment</th>\n",
       "      <th></th>\n",
       "      <th></th>\n",
       "      <th></th>\n",
       "      <th></th>\n",
       "      <th></th>\n",
       "      <th></th>\n",
       "      <th></th>\n",
       "      <th></th>\n",
       "      <th></th>\n",
       "      <th></th>\n",
       "      <th></th>\n",
       "      <th></th>\n",
       "      <th></th>\n",
       "      <th></th>\n",
       "      <th></th>\n",
       "    </tr>\n",
       "  </thead>\n",
       "  <tbody>\n",
       "    <tr>\n",
       "      <th>Control</th>\n",
       "      <td>5.000097</td>\n",
       "      <td>100.0</td>\n",
       "      <td>100.0</td>\n",
       "      <td>1574.807692</td>\n",
       "      <td>0.134615</td>\n",
       "      <td>2.192308</td>\n",
       "      <td>1.230769</td>\n",
       "      <td>False</td>\n",
       "      <td>5604.269231</td>\n",
       "      <td>3.0</td>\n",
       "      <td>13.333333</td>\n",
       "      <td>6.666667</td>\n",
       "      <td>0.093283</td>\n",
       "      <td>32629.269231</td>\n",
       "      <td>70070.461538</td>\n",
       "    </tr>\n",
       "    <tr>\n",
       "      <th>Notch</th>\n",
       "      <td>5.000382</td>\n",
       "      <td>100.0</td>\n",
       "      <td>100.0</td>\n",
       "      <td>1588.000000</td>\n",
       "      <td>0.133333</td>\n",
       "      <td>2.000000</td>\n",
       "      <td>1.333333</td>\n",
       "      <td>False</td>\n",
       "      <td>6219.000000</td>\n",
       "      <td>3.0</td>\n",
       "      <td>21.888889</td>\n",
       "      <td>10.000000</td>\n",
       "      <td>0.160124</td>\n",
       "      <td>38060.518519</td>\n",
       "      <td>76121.037037</td>\n",
       "    </tr>\n",
       "  </tbody>\n",
       "</table>\n",
       "</div>"
      ],
      "text/plain": [
       "            Voxelsize  Voltage  Current  NumberOfProjections  RotationStep  \\\n",
       "Experiment                                                                   \n",
       "Control      5.000097    100.0    100.0          1574.807692      0.134615   \n",
       "Notch        5.000382    100.0    100.0          1588.000000      0.133333   \n",
       "\n",
       "              Stacks      Wide  ThreeSixty     Exposure  Averaging  \\\n",
       "Experiment                                                           \n",
       "Control     2.192308  1.230769       False  5604.269231        3.0   \n",
       "Notch       2.000000  1.333333       False  6219.000000        3.0   \n",
       "\n",
       "            RingRemoval  Beamhardening  GrayValueMax     Scan time  \\\n",
       "Experiment                                                           \n",
       "Control       13.333333       6.666667      0.093283  32629.269231   \n",
       "Notch         21.888889      10.000000      0.160124  38060.518519   \n",
       "\n",
       "            Scan time total  \n",
       "Experiment                   \n",
       "Control        70070.461538  \n",
       "Notch          76121.037037  "
      ]
     },
     "execution_count": 67,
     "metadata": {},
     "output_type": "execute_result"
    }
   ],
   "source": [
    "Data.groupby('Experiment').mean()"
   ]
  },
  {
   "cell_type": "markdown",
   "metadata": {},
   "source": [
    "----"
   ]
  },
  {
   "cell_type": "markdown",
   "metadata": {},
   "source": [
    "My microct blurb from http://simp.ly/publish/NBhZhH"
   ]
  },
  {
   "cell_type": "code",
   "execution_count": 68,
   "metadata": {},
   "outputs": [
    {
     "name": "stdout",
     "output_type": "stream",
     "text": [
      "Based on the 53 log files in /Users/habi/Dev/liver-nchp/Data/Liver-Semela\n"
     ]
    }
   ],
   "source": [
    "print('Based on the %s log files in %s' % (len(Data), Root))"
   ]
  },
  {
   "cell_type": "code",
   "execution_count": 69,
   "metadata": {},
   "outputs": [
    {
     "data": {
      "text/plain": [
       "8"
      ]
     },
     "execution_count": 69,
     "metadata": {},
     "output_type": "execute_result"
    }
   ],
   "source": [
    "len(Data.Sample.unique())"
   ]
  },
  {
   "cell_type": "code",
   "execution_count": 70,
   "metadata": {},
   "outputs": [
    {
     "name": "stdout",
     "output_type": "stream",
     "text": [
      "After $PREPARATION, the 8 samples were imaged on a Bruker SkyScan 1272 high-resolution microtomography machine (Control software version 1.1.9 or 1.1.19, Bruker microCT, Kontich, Belgium).\n"
     ]
    }
   ],
   "source": [
    "print('After $PREPARATION, the',\n",
    "      len(Data.Sample.unique()),\n",
    "      'samples were imaged on a Bruker',\n",
    "      \" OR \".join(str(value) for value in Data.Scanner.unique()),\n",
    "      'high-resolution microtomography machine (Control software version',\n",
    "      \" or \".join(str(value) for value in Data.ControlSoftware.unique()) + \n",
    "      ', Bruker microCT, Kontich, Belgium).')"
   ]
  },
  {
   "cell_type": "code",
   "execution_count": 71,
   "metadata": {},
   "outputs": [
    {
     "name": "stdout",
     "output_type": "stream",
     "text": [
      "The machine is equipped with a Hamamatsu L11871_20 X-ray source and a XIMEA xiRAY16 camera which converts the x-rays into visible light and records the projection images.\n"
     ]
    }
   ],
   "source": [
    "print('The machine is equipped with a',\n",
    "      \" OR \".join(str(value) for value in Data.Source.unique()),\n",
    "      'X-ray source and a',\n",
    "      \" OR \".join(str(value) for value in Data.Camera.unique()),\n",
    "      'camera which converts the x-rays into visible light and records the projection images.')"
   ]
  },
  {
   "cell_type": "code",
   "execution_count": 72,
   "metadata": {},
   "outputs": [
    {
     "name": "stdout",
     "output_type": "stream",
     "text": [
      "The X-ray source was set to a tube voltage of 100.0 kV and a tube current of 100.0 µA, the x-ray spectrum was filtered by Cu 0.11mm prior to incidence onto the sample.\n"
     ]
    }
   ],
   "source": [
    "print('The X-ray source was set to a tube voltage of', \n",
    "      \" OR \".join(str(value) for value in Data.Voltage.unique()),\n",
    "      'kV and a tube current of',\n",
    "      \" OR \".join(str(value) for value in Data.Current.unique()),\n",
    "      'µA, the x-ray spectrum was', end=' ')\n",
    "if Data.Filter.unique():\n",
    "    print('filtered by', \" OR \".join(str(value) for value in Data.Filter.unique()), end=' ')\n",
    "else:\n",
    "    print('not filtered', end=' ')\n",
    "print('prior to incidence onto the sample.')"
   ]
  },
  {
   "cell_type": "code",
   "execution_count": 78,
   "metadata": {},
   "outputs": [
    {
     "name": "stdout",
     "output_type": "stream",
     "text": [
      "For each sample, we recorded a set of 2 or 3 stacked scans overlapping the sample height, each stack was recorded with 1895 or 962 or 974 projections of 4904 2452 4664 x 3280 1640 1638 pixels (1 or 2 projections stitched laterally) at every 0.1 or 0.2° over a 180° sample rotation.\n"
     ]
    }
   ],
   "source": [
    "print('For each sample, we recorded a set of', end=' ')\n",
    "if Data.Filter.unique().tolist():   \n",
    "    print(\" or \".join(str(value) for value in Data.Stacks.unique()),\n",
    "          'stacked scans overlapping the sample height, each stack was recorded with', end=' ')\n",
    "print(\" or \".join(str(value) for value in Data.NumberOfProjections.unique()), 'projections of', end=' ')\n",
    "for cs in Data['CameraSize'].unique():\n",
    "    print(cs[0], end=' ')\n",
    "print('x', end=' ')\n",
    "for cs in Data['CameraSize'].unique():\n",
    "    print(cs[1], end=' ')\n",
    "print('pixels', end=' ')\n",
    "if Data.Wide.unique().tolist():\n",
    "    print('(' + \" or \".join(str(value) for value in Data.Wide.unique()), 'projections stitched laterally)', end=' ')\n",
    "print('at every',\n",
    "       str(\" or \".join(str(value) for value in Data.RotationStep.unique())) + '° over a ', end='')\n",
    "if Data.ThreeSixty.unique():\n",
    "     print('360°', end=' ')\n",
    "else:\n",
    "    print('180°', end=' ')\n",
    "print('sample rotation.')"
   ]
  },
  {
   "cell_type": "code",
   "execution_count": 79,
   "metadata": {},
   "outputs": [
    {
     "name": "stdout",
     "output_type": "stream",
     "text": [
      "On average, every single projection was exposed for 5917 ms, 3 projections were again averaged to greatly reduce image noise.\n"
     ]
    }
   ],
   "source": [
    "print('On average, every single projection was exposed for %s' % round(Data.Exposure.mean()),\n",
    "      'ms,',\n",
    "      \" or \".join(str(value) for value in Data.Averaging.unique()),\n",
    "      'projections were again averaged to greatly reduce image noise.')"
   ]
  },
  {
   "cell_type": "code",
   "execution_count": 80,
   "metadata": {},
   "outputs": [
    {
     "data": {
      "text/plain": [
       "array([2, 3])"
      ]
     },
     "execution_count": 80,
     "metadata": {},
     "output_type": "execute_result"
    }
   ],
   "source": [
    "Data.Stacks.unique()"
   ]
  },
  {
   "cell_type": "code",
   "execution_count": 81,
   "metadata": {},
   "outputs": [],
   "source": [
    "#print('This resulted in a scan time of approximately ', end='')\n",
    "#if duration(log)/3600 > 1:\n",
    "#    # Scan took hours\n",
    "#    print(timeformat(datetime.timedelta(seconds=duration(log)),\n",
    "#                     '{hours} hours and {minutes} minutes'), end=' ')\n",
    "#else:\n",
    "#    print(timeformat(datetime.timedelta(seconds=duration(log)),\n",
    "#                     '{minutes} minutes'), end=' ')\n",
    "#if not stacks(log) == 1:\n",
    "#    print('per stack and about',\n",
    "#          timeformat(stacks(log) * datetime.timedelta(seconds=duration(log)),\n",
    "#                     '{hours} hours and {minutes} minutes'), end=' ')\n",
    "#print('per sample', end='')\n",
    "#if stacks(log) == 1:\n",
    "#    print('.')\n",
    "#else:\n",
    "#    print(' (with', stacks(log), 'stacks).')"
   ]
  },
  {
   "cell_type": "code",
   "execution_count": 82,
   "metadata": {},
   "outputs": [
    {
     "data": {
      "text/plain": [
       "35396.1320754717"
      ]
     },
     "execution_count": 82,
     "metadata": {},
     "output_type": "execute_result"
    }
   ],
   "source": [
    "Data['Scan time'].mean()"
   ]
  },
  {
   "cell_type": "code",
   "execution_count": 83,
   "metadata": {},
   "outputs": [],
   "source": [
    "#print('In total, we scanned', Data.Stacks.sum(), 'stacks.')\n",
    "#print('Each stack took approximately',\n",
    "#      Data['Scan time'].mean() // 60,\n",
    "#      'minutes (' + str(datetime.timedelta(seconds=Data['Scan time'].mean())) + ')')\n",
    "#print('In total, we thus scanned for about', \n",
    "#      timeformat(Data.Stacks.sum() *\n",
    "#                 datetime.timedelta(seconds=Data.Duration.mean()),\n",
    "#                 '{days} days, {hours} hours and {minutes} minutes.'))\n",
    "#hourlyrate = 125\n",
    "#print('At the MIC rate of %s CHF/h, this would have cost %s CHF' % (\n",
    "#    hourlyrate,\n",
    "#    int(round(Data.Stacks.sum() * Data.Duration.mean() / 60 / 60 * hourlyrate))))"
   ]
  },
  {
   "cell_type": "code",
   "execution_count": 84,
   "metadata": {},
   "outputs": [],
   "source": [
    "#print('In total, we scanned %s samples at %s stacks on average' % (len(Data.Scan.unique()), Data.Stacks.mean()))\n",
    "#print('Each stack took approximately',\n",
    "#      Data.Duration.mean() // 60,\n",
    "#      'minutes (' + str(datetime.timedelta(seconds=Data.Duration.mean())) + ')')\n",
    "#print('In total, we thus scanned for about', \n",
    "#      timeformat(len(Data.Scan.unique()) * Data.Stacks.mean() *\n",
    "#                 datetime.timedelta(seconds=Data.Duration.mean()),\n",
    "#                 '{days} days, {hours} hours and {minutes} minutes.'))\n",
    "#print('At the MIC rate, this would have cost',\n",
    "#      int(round(len(Data.Scan.unique()) * Data.Stacks.mean() * Data.Duration.mean() / 60 / 60 * 75)),\n",
    "#      'CHF.')"
   ]
  },
  {
   "cell_type": "code",
   "execution_count": 85,
   "metadata": {},
   "outputs": [
    {
     "data": {
      "text/plain": [
       "array(['1.7.0.4', None, '1.7.3.0', '1.7.4.2'], dtype=object)"
      ]
     },
     "execution_count": 85,
     "metadata": {},
     "output_type": "execute_result"
    }
   ],
   "source": [
    "Data.NRecon.unique()"
   ]
  },
  {
   "cell_type": "code",
   "execution_count": 86,
   "metadata": {},
   "outputs": [
    {
     "data": {
      "text/plain": [
       "array(['1.7.0.4', '1.7.3.0', '1.7.4.2'], dtype=object)"
      ]
     },
     "execution_count": 86,
     "metadata": {},
     "output_type": "execute_result"
    }
   ],
   "source": [
    "Data.NRecon.dropna().unique()"
   ]
  },
  {
   "cell_type": "code",
   "execution_count": 87,
   "metadata": {},
   "outputs": [
    {
     "name": "stdout",
     "output_type": "stream",
     "text": [
      "The projection images were then subsequently reconstructed into a 3D stack of images with NRecon (Version ['1.7.0.4' '1.7.3.0' '1.7.4.2'] , Bruker microCT, Kontich Belgium) "
     ]
    }
   ],
   "source": [
    "print('The projection images were then subsequently reconstructed into a 3D stack',\n",
    "      'of images with NRecon (Version',\n",
    "      Data.NRecon.dropna().unique(),\n",
    "      ', Bruker microCT, Kontich Belgium)', end=' ')\n",
    "#if ringremoval(log):\n",
    "#    print('using a ring artifact correction of',\n",
    "#          ringremoval(log), end='')\n",
    "#if beamhardening(log):\n",
    "#    print(' and a beam hardening correction of',\n",
    "#          beamhardening(log),\n",
    "#          '%.')\n",
    "#else:\n",
    "#    print('.')\n",
    "   "
   ]
  },
  {
   "cell_type": "code",
   "execution_count": 88,
   "metadata": {},
   "outputs": [
    {
     "name": "stdout",
     "output_type": "stream",
     "text": [
      "The whole process resulted in datasets with an isometric voxel size of 5 µm.\n"
     ]
    }
   ],
   "source": [
    "print('The whole process resulted in datasets with an isometric voxel size of',\n",
    "      round(Data.Voxelsize.mean()),\n",
    "      'µm.') "
   ]
  },
  {
   "cell_type": "code",
   "execution_count": 89,
   "metadata": {},
   "outputs": [
    {
     "data": {
      "text/html": [
       "<div>\n",
       "<style scoped>\n",
       "    .dataframe tbody tr th:only-of-type {\n",
       "        vertical-align: middle;\n",
       "    }\n",
       "\n",
       "    .dataframe tbody tr th {\n",
       "        vertical-align: top;\n",
       "    }\n",
       "\n",
       "    .dataframe thead th {\n",
       "        text-align: right;\n",
       "    }\n",
       "</style>\n",
       "<table border=\"1\" class=\"dataframe\">\n",
       "  <thead>\n",
       "    <tr style=\"text-align: right;\">\n",
       "      <th></th>\n",
       "      <th>Sample</th>\n",
       "      <th>Scan</th>\n",
       "      <th>Subfolder</th>\n",
       "      <th>Beamhardening</th>\n",
       "      <th>RingRemoval</th>\n",
       "    </tr>\n",
       "  </thead>\n",
       "  <tbody>\n",
       "    <tr>\n",
       "      <th>0</th>\n",
       "      <td>ctrl1</td>\n",
       "      <td>highresolution</td>\n",
       "      <td>proj</td>\n",
       "      <td>0.0</td>\n",
       "      <td>20.0</td>\n",
       "    </tr>\n",
       "    <tr>\n",
       "      <th>1</th>\n",
       "      <td>ctrl1</td>\n",
       "      <td>highresolution</td>\n",
       "      <td>proj</td>\n",
       "      <td>NaN</td>\n",
       "      <td>NaN</td>\n",
       "    </tr>\n",
       "    <tr>\n",
       "      <th>2</th>\n",
       "      <td>ctrl1</td>\n",
       "      <td>highresolution</td>\n",
       "      <td>proj</td>\n",
       "      <td>NaN</td>\n",
       "      <td>NaN</td>\n",
       "    </tr>\n",
       "    <tr>\n",
       "      <th>12</th>\n",
       "      <td>ctrl1</td>\n",
       "      <td>rll_5um</td>\n",
       "      <td>proj</td>\n",
       "      <td>0.0</td>\n",
       "      <td>20.0</td>\n",
       "    </tr>\n",
       "    <tr>\n",
       "      <th>13</th>\n",
       "      <td>ctrl1</td>\n",
       "      <td>rll_5um</td>\n",
       "      <td>proj</td>\n",
       "      <td>NaN</td>\n",
       "      <td>NaN</td>\n",
       "    </tr>\n",
       "    <tr>\n",
       "      <th>14</th>\n",
       "      <td>ctrl1</td>\n",
       "      <td>rll_5um</td>\n",
       "      <td>proj</td>\n",
       "      <td>NaN</td>\n",
       "      <td>NaN</td>\n",
       "    </tr>\n",
       "    <tr>\n",
       "      <th>16</th>\n",
       "      <td>ctrl1</td>\n",
       "      <td>highresolution</td>\n",
       "      <td>proj</td>\n",
       "      <td>0.0</td>\n",
       "      <td>7.0</td>\n",
       "    </tr>\n",
       "    <tr>\n",
       "      <th>17</th>\n",
       "      <td>ctrl1</td>\n",
       "      <td>highresolution</td>\n",
       "      <td>proj</td>\n",
       "      <td>NaN</td>\n",
       "      <td>NaN</td>\n",
       "    </tr>\n",
       "    <tr>\n",
       "      <th>18</th>\n",
       "      <td>ctrl1</td>\n",
       "      <td>highresolution</td>\n",
       "      <td>proj</td>\n",
       "      <td>NaN</td>\n",
       "      <td>NaN</td>\n",
       "    </tr>\n",
       "    <tr>\n",
       "      <th>24</th>\n",
       "      <td>ctrl2</td>\n",
       "      <td>rll_5um</td>\n",
       "      <td>proj</td>\n",
       "      <td>30.0</td>\n",
       "      <td>7.0</td>\n",
       "    </tr>\n",
       "    <tr>\n",
       "      <th>25</th>\n",
       "      <td>ctrl2</td>\n",
       "      <td>rll_5um</td>\n",
       "      <td>proj</td>\n",
       "      <td>NaN</td>\n",
       "      <td>NaN</td>\n",
       "    </tr>\n",
       "    <tr>\n",
       "      <th>26</th>\n",
       "      <td>ctrl2</td>\n",
       "      <td>rll_5um</td>\n",
       "      <td>proj</td>\n",
       "      <td>NaN</td>\n",
       "      <td>NaN</td>\n",
       "    </tr>\n",
       "    <tr>\n",
       "      <th>28</th>\n",
       "      <td>ctrl2</td>\n",
       "      <td>highresolution</td>\n",
       "      <td>proj</td>\n",
       "      <td>0.0</td>\n",
       "      <td>13.0</td>\n",
       "    </tr>\n",
       "    <tr>\n",
       "      <th>29</th>\n",
       "      <td>ctrl2</td>\n",
       "      <td>highresolution</td>\n",
       "      <td>proj</td>\n",
       "      <td>0.0</td>\n",
       "      <td>13.0</td>\n",
       "    </tr>\n",
       "    <tr>\n",
       "      <th>30</th>\n",
       "      <td>ctrl2</td>\n",
       "      <td>highresolution</td>\n",
       "      <td>proj</td>\n",
       "      <td>NaN</td>\n",
       "      <td>NaN</td>\n",
       "    </tr>\n",
       "    <tr>\n",
       "      <th>31</th>\n",
       "      <td>ctrl2</td>\n",
       "      <td>highresolution</td>\n",
       "      <td>proj</td>\n",
       "      <td>NaN</td>\n",
       "      <td>NaN</td>\n",
       "    </tr>\n",
       "    <tr>\n",
       "      <th>32</th>\n",
       "      <td>ctrl2</td>\n",
       "      <td>highresolution</td>\n",
       "      <td>proj</td>\n",
       "      <td>NaN</td>\n",
       "      <td>NaN</td>\n",
       "    </tr>\n",
       "    <tr>\n",
       "      <th>37</th>\n",
       "      <td>ctrl4</td>\n",
       "      <td>highresolution</td>\n",
       "      <td>proj</td>\n",
       "      <td>0.0</td>\n",
       "      <td>20.0</td>\n",
       "    </tr>\n",
       "    <tr>\n",
       "      <th>38</th>\n",
       "      <td>ctrl4</td>\n",
       "      <td>highresolution</td>\n",
       "      <td>proj</td>\n",
       "      <td>NaN</td>\n",
       "      <td>NaN</td>\n",
       "    </tr>\n",
       "    <tr>\n",
       "      <th>39</th>\n",
       "      <td>ctrl4</td>\n",
       "      <td>highresolution</td>\n",
       "      <td>proj</td>\n",
       "      <td>NaN</td>\n",
       "      <td>NaN</td>\n",
       "    </tr>\n",
       "    <tr>\n",
       "      <th>58</th>\n",
       "      <td>ctrl5</td>\n",
       "      <td>rll_5um</td>\n",
       "      <td>proj</td>\n",
       "      <td>30.0</td>\n",
       "      <td>7.0</td>\n",
       "    </tr>\n",
       "    <tr>\n",
       "      <th>59</th>\n",
       "      <td>ctrl5</td>\n",
       "      <td>rll_5um</td>\n",
       "      <td>proj</td>\n",
       "      <td>NaN</td>\n",
       "      <td>NaN</td>\n",
       "    </tr>\n",
       "    <tr>\n",
       "      <th>60</th>\n",
       "      <td>ctrl5</td>\n",
       "      <td>rll_5um</td>\n",
       "      <td>proj</td>\n",
       "      <td>NaN</td>\n",
       "      <td>NaN</td>\n",
       "    </tr>\n",
       "    <tr>\n",
       "      <th>62</th>\n",
       "      <td>ctrl5</td>\n",
       "      <td>highresolution</td>\n",
       "      <td>proj</td>\n",
       "      <td>0.0</td>\n",
       "      <td>13.0</td>\n",
       "    </tr>\n",
       "    <tr>\n",
       "      <th>63</th>\n",
       "      <td>ctrl5</td>\n",
       "      <td>highresolution</td>\n",
       "      <td>proj</td>\n",
       "      <td>NaN</td>\n",
       "      <td>NaN</td>\n",
       "    </tr>\n",
       "    <tr>\n",
       "      <th>64</th>\n",
       "      <td>ctrl5</td>\n",
       "      <td>highresolution</td>\n",
       "      <td>proj</td>\n",
       "      <td>NaN</td>\n",
       "      <td>NaN</td>\n",
       "    </tr>\n",
       "    <tr>\n",
       "      <th>70</th>\n",
       "      <td>notch1_1</td>\n",
       "      <td>highresolution</td>\n",
       "      <td>proj</td>\n",
       "      <td>0.0</td>\n",
       "      <td>20.0</td>\n",
       "    </tr>\n",
       "    <tr>\n",
       "      <th>71</th>\n",
       "      <td>notch1_1</td>\n",
       "      <td>highresolution</td>\n",
       "      <td>proj</td>\n",
       "      <td>NaN</td>\n",
       "      <td>NaN</td>\n",
       "    </tr>\n",
       "    <tr>\n",
       "      <th>72</th>\n",
       "      <td>notch1_1</td>\n",
       "      <td>highresolution</td>\n",
       "      <td>proj</td>\n",
       "      <td>NaN</td>\n",
       "      <td>NaN</td>\n",
       "    </tr>\n",
       "    <tr>\n",
       "      <th>84</th>\n",
       "      <td>notch1_1</td>\n",
       "      <td>rll_5um</td>\n",
       "      <td>proj</td>\n",
       "      <td>30.0</td>\n",
       "      <td>7.0</td>\n",
       "    </tr>\n",
       "    <tr>\n",
       "      <th>85</th>\n",
       "      <td>notch1_1</td>\n",
       "      <td>rll_5um</td>\n",
       "      <td>proj</td>\n",
       "      <td>NaN</td>\n",
       "      <td>NaN</td>\n",
       "    </tr>\n",
       "    <tr>\n",
       "      <th>86</th>\n",
       "      <td>notch1_1</td>\n",
       "      <td>rll_5um</td>\n",
       "      <td>proj</td>\n",
       "      <td>NaN</td>\n",
       "      <td>NaN</td>\n",
       "    </tr>\n",
       "    <tr>\n",
       "      <th>88</th>\n",
       "      <td>notch1_1</td>\n",
       "      <td>highresolution</td>\n",
       "      <td>proj</td>\n",
       "      <td>0.0</td>\n",
       "      <td>13.0</td>\n",
       "    </tr>\n",
       "    <tr>\n",
       "      <th>89</th>\n",
       "      <td>notch1_1</td>\n",
       "      <td>highresolution</td>\n",
       "      <td>proj</td>\n",
       "      <td>NaN</td>\n",
       "      <td>NaN</td>\n",
       "    </tr>\n",
       "    <tr>\n",
       "      <th>90</th>\n",
       "      <td>notch1_1</td>\n",
       "      <td>highresolution</td>\n",
       "      <td>proj</td>\n",
       "      <td>NaN</td>\n",
       "      <td>NaN</td>\n",
       "    </tr>\n",
       "    <tr>\n",
       "      <th>92</th>\n",
       "      <td>notch1_2</td>\n",
       "      <td>overview</td>\n",
       "      <td>proj</td>\n",
       "      <td>0.0</td>\n",
       "      <td>20.0</td>\n",
       "    </tr>\n",
       "    <tr>\n",
       "      <th>93</th>\n",
       "      <td>notch1_2</td>\n",
       "      <td>overview</td>\n",
       "      <td>proj</td>\n",
       "      <td>NaN</td>\n",
       "      <td>NaN</td>\n",
       "    </tr>\n",
       "    <tr>\n",
       "      <th>94</th>\n",
       "      <td>notch1_2</td>\n",
       "      <td>overview</td>\n",
       "      <td>proj</td>\n",
       "      <td>NaN</td>\n",
       "      <td>NaN</td>\n",
       "    </tr>\n",
       "    <tr>\n",
       "      <th>100</th>\n",
       "      <td>notch1_3</td>\n",
       "      <td>rll_5um</td>\n",
       "      <td>proj</td>\n",
       "      <td>30.0</td>\n",
       "      <td>7.0</td>\n",
       "    </tr>\n",
       "    <tr>\n",
       "      <th>101</th>\n",
       "      <td>notch1_3</td>\n",
       "      <td>rll_5um</td>\n",
       "      <td>proj</td>\n",
       "      <td>NaN</td>\n",
       "      <td>NaN</td>\n",
       "    </tr>\n",
       "    <tr>\n",
       "      <th>102</th>\n",
       "      <td>notch1_3</td>\n",
       "      <td>rll_5um</td>\n",
       "      <td>proj</td>\n",
       "      <td>NaN</td>\n",
       "      <td>NaN</td>\n",
       "    </tr>\n",
       "    <tr>\n",
       "      <th>104</th>\n",
       "      <td>notch1_3</td>\n",
       "      <td>highresolution</td>\n",
       "      <td>proj</td>\n",
       "      <td>0.0</td>\n",
       "      <td>13.0</td>\n",
       "    </tr>\n",
       "    <tr>\n",
       "      <th>105</th>\n",
       "      <td>notch1_3</td>\n",
       "      <td>highresolution</td>\n",
       "      <td>proj</td>\n",
       "      <td>NaN</td>\n",
       "      <td>NaN</td>\n",
       "    </tr>\n",
       "    <tr>\n",
       "      <th>106</th>\n",
       "      <td>notch1_3</td>\n",
       "      <td>highresolution</td>\n",
       "      <td>proj</td>\n",
       "      <td>NaN</td>\n",
       "      <td>NaN</td>\n",
       "    </tr>\n",
       "    <tr>\n",
       "      <th>108</th>\n",
       "      <td>notch1_4</td>\n",
       "      <td>highresolution</td>\n",
       "      <td>proj</td>\n",
       "      <td>0.0</td>\n",
       "      <td>100.0</td>\n",
       "    </tr>\n",
       "    <tr>\n",
       "      <th>109</th>\n",
       "      <td>notch1_4</td>\n",
       "      <td>highresolution</td>\n",
       "      <td>proj</td>\n",
       "      <td>NaN</td>\n",
       "      <td>NaN</td>\n",
       "    </tr>\n",
       "    <tr>\n",
       "      <th>110</th>\n",
       "      <td>notch1_4</td>\n",
       "      <td>highresolution</td>\n",
       "      <td>proj</td>\n",
       "      <td>NaN</td>\n",
       "      <td>NaN</td>\n",
       "    </tr>\n",
       "    <tr>\n",
       "      <th>121</th>\n",
       "      <td>notch1_4</td>\n",
       "      <td>rll_5um</td>\n",
       "      <td>proj</td>\n",
       "      <td>30.0</td>\n",
       "      <td>4.0</td>\n",
       "    </tr>\n",
       "    <tr>\n",
       "      <th>122</th>\n",
       "      <td>notch1_4</td>\n",
       "      <td>rll_5um</td>\n",
       "      <td>proj</td>\n",
       "      <td>NaN</td>\n",
       "      <td>NaN</td>\n",
       "    </tr>\n",
       "    <tr>\n",
       "      <th>123</th>\n",
       "      <td>notch1_4</td>\n",
       "      <td>rll_5um</td>\n",
       "      <td>proj</td>\n",
       "      <td>NaN</td>\n",
       "      <td>NaN</td>\n",
       "    </tr>\n",
       "    <tr>\n",
       "      <th>132</th>\n",
       "      <td>notch1_4</td>\n",
       "      <td>highresolution</td>\n",
       "      <td>proj</td>\n",
       "      <td>0.0</td>\n",
       "      <td>13.0</td>\n",
       "    </tr>\n",
       "    <tr>\n",
       "      <th>133</th>\n",
       "      <td>notch1_4</td>\n",
       "      <td>highresolution</td>\n",
       "      <td>proj</td>\n",
       "      <td>NaN</td>\n",
       "      <td>NaN</td>\n",
       "    </tr>\n",
       "    <tr>\n",
       "      <th>134</th>\n",
       "      <td>notch1_4</td>\n",
       "      <td>highresolution</td>\n",
       "      <td>proj</td>\n",
       "      <td>NaN</td>\n",
       "      <td>NaN</td>\n",
       "    </tr>\n",
       "  </tbody>\n",
       "</table>\n",
       "</div>"
      ],
      "text/plain": [
       "       Sample            Scan Subfolder  Beamhardening  RingRemoval\n",
       "0       ctrl1  highresolution      proj            0.0         20.0\n",
       "1       ctrl1  highresolution      proj            NaN          NaN\n",
       "2       ctrl1  highresolution      proj            NaN          NaN\n",
       "12      ctrl1         rll_5um      proj            0.0         20.0\n",
       "13      ctrl1         rll_5um      proj            NaN          NaN\n",
       "14      ctrl1         rll_5um      proj            NaN          NaN\n",
       "16      ctrl1  highresolution      proj            0.0          7.0\n",
       "17      ctrl1  highresolution      proj            NaN          NaN\n",
       "18      ctrl1  highresolution      proj            NaN          NaN\n",
       "24      ctrl2         rll_5um      proj           30.0          7.0\n",
       "25      ctrl2         rll_5um      proj            NaN          NaN\n",
       "26      ctrl2         rll_5um      proj            NaN          NaN\n",
       "28      ctrl2  highresolution      proj            0.0         13.0\n",
       "29      ctrl2  highresolution      proj            0.0         13.0\n",
       "30      ctrl2  highresolution      proj            NaN          NaN\n",
       "31      ctrl2  highresolution      proj            NaN          NaN\n",
       "32      ctrl2  highresolution      proj            NaN          NaN\n",
       "37      ctrl4  highresolution      proj            0.0         20.0\n",
       "38      ctrl4  highresolution      proj            NaN          NaN\n",
       "39      ctrl4  highresolution      proj            NaN          NaN\n",
       "58      ctrl5         rll_5um      proj           30.0          7.0\n",
       "59      ctrl5         rll_5um      proj            NaN          NaN\n",
       "60      ctrl5         rll_5um      proj            NaN          NaN\n",
       "62      ctrl5  highresolution      proj            0.0         13.0\n",
       "63      ctrl5  highresolution      proj            NaN          NaN\n",
       "64      ctrl5  highresolution      proj            NaN          NaN\n",
       "70   notch1_1  highresolution      proj            0.0         20.0\n",
       "71   notch1_1  highresolution      proj            NaN          NaN\n",
       "72   notch1_1  highresolution      proj            NaN          NaN\n",
       "84   notch1_1         rll_5um      proj           30.0          7.0\n",
       "85   notch1_1         rll_5um      proj            NaN          NaN\n",
       "86   notch1_1         rll_5um      proj            NaN          NaN\n",
       "88   notch1_1  highresolution      proj            0.0         13.0\n",
       "89   notch1_1  highresolution      proj            NaN          NaN\n",
       "90   notch1_1  highresolution      proj            NaN          NaN\n",
       "92   notch1_2        overview      proj            0.0         20.0\n",
       "93   notch1_2        overview      proj            NaN          NaN\n",
       "94   notch1_2        overview      proj            NaN          NaN\n",
       "100  notch1_3         rll_5um      proj           30.0          7.0\n",
       "101  notch1_3         rll_5um      proj            NaN          NaN\n",
       "102  notch1_3         rll_5um      proj            NaN          NaN\n",
       "104  notch1_3  highresolution      proj            0.0         13.0\n",
       "105  notch1_3  highresolution      proj            NaN          NaN\n",
       "106  notch1_3  highresolution      proj            NaN          NaN\n",
       "108  notch1_4  highresolution      proj            0.0        100.0\n",
       "109  notch1_4  highresolution      proj            NaN          NaN\n",
       "110  notch1_4  highresolution      proj            NaN          NaN\n",
       "121  notch1_4         rll_5um      proj           30.0          4.0\n",
       "122  notch1_4         rll_5um      proj            NaN          NaN\n",
       "123  notch1_4         rll_5um      proj            NaN          NaN\n",
       "132  notch1_4  highresolution      proj            0.0         13.0\n",
       "133  notch1_4  highresolution      proj            NaN          NaN\n",
       "134  notch1_4  highresolution      proj            NaN          NaN"
      ]
     },
     "execution_count": 89,
     "metadata": {},
     "output_type": "execute_result"
    }
   ],
   "source": [
    "Data[['Sample', 'Scan', 'Subfolder', 'Beamhardening', 'RingRemoval']]"
   ]
  },
  {
   "cell_type": "code",
   "execution_count": null,
   "metadata": {},
   "outputs": [],
   "source": []
  },
  {
   "cell_type": "code",
   "execution_count": null,
   "metadata": {},
   "outputs": [],
   "source": []
  }
 ],
 "metadata": {
  "kernelspec": {
   "display_name": "Python 3 (ipykernel)",
   "language": "python",
   "name": "python3"
  },
  "language_info": {
   "codemirror_mode": {
    "name": "ipython",
    "version": 3
   },
   "file_extension": ".py",
   "mimetype": "text/x-python",
   "name": "python",
   "nbconvert_exporter": "python",
   "pygments_lexer": "ipython3",
   "version": "3.7.12"
  }
 },
 "nbformat": 4,
 "nbformat_minor": 4
}
